{
 "cells": [
  {
   "cell_type": "markdown",
   "id": "3912546a-7e05-459d-9677-ec831065eeb6",
   "metadata": {},
   "source": [
    "#### Задача 1. \n",
    "\n",
    "Напишите метакласс с логированием: при определении любого нового класса в файл (путь к которому хранится в статическом атрибуте метакласса) записывается имя этого класса, его суперклассы и атрибуты. "
   ]
  },
  {
   "cell_type": "code",
   "execution_count": 1,
   "id": "af0d1736-d64f-4d35-afd3-f0993f595d1a",
   "metadata": {},
   "outputs": [],
   "source": [
    "class Meta(type):\n",
    "    path = r'D:\\\\uni\\\\new.txt'\n",
    "    def __new__(cls, name, bases, dct):\n",
    "        x = super().__new__(cls, name, bases, dct)\n",
    "        with open(cls.path, 'a', encoding='utf8') as file:\n",
    "            for key, value in dct.items():\n",
    "                file.write(f'{key}: {value}')\n",
    "        return x    \n",
    "    \n",
    "\n",
    "class Child(metaclass=Meta):\n",
    "    def __init__(self, name):\n",
    "        self.name = name\n",
    "\n",
    "\n"
   ]
  },
  {
   "cell_type": "markdown",
   "id": "941a875a-a499-40a7-a719-de7f5faf5335",
   "metadata": {},
   "source": [
    "#### Задача 2. \n",
    "\n",
    "Напишите метакласс, который любому новому классу будет добавлять метод sayHello(\\*args, \\*\\*kwargs). "
   ]
  },
  {
   "cell_type": "code",
   "execution_count": 56,
   "id": "abbb5388-fec9-404b-a968-5a0f3bebfbec",
   "metadata": {},
   "outputs": [
    {
     "name": "stdout",
     "output_type": "stream",
     "text": [
      "Hello, fufu\n"
     ]
    }
   ],
   "source": [
    "def say_hello(self, string):\n",
    "        print(f'Hello, {string}')\n",
    "        \n",
    "class Meta(type):\n",
    "     def __new__(cls, name, bases, dct):\n",
    "        x = super().__new__(cls, name, bases, dct)\n",
    "        x.hello = classmethod(say_hello)\n",
    "        return x\n",
    "        \n",
    "\n",
    "class Child(metaclass=Meta): \n",
    "    def __init__(self, name):\n",
    "        self.name = name\n",
    "\n",
    "\n",
    "c = Child('fufu')\n",
    "c.hello(c.name)"
   ]
  },
  {
   "cell_type": "code",
   "execution_count": 62,
   "id": "6453c5f1",
   "metadata": {},
   "outputs": [
    {
     "data": {
      "text/plain": [
       "{'name': 'fufu'}"
      ]
     },
     "execution_count": 62,
     "metadata": {},
     "output_type": "execute_result"
    }
   ],
   "source": [
    "vars(c)"
   ]
  },
  {
   "cell_type": "code",
   "execution_count": 59,
   "id": "996fde52",
   "metadata": {},
   "outputs": [
    {
     "name": "stdout",
     "output_type": "stream",
     "text": [
      "Hello\n"
     ]
    }
   ],
   "source": [
    "\n",
    "        \n",
    "class Meta(type):\n",
    "     def __new__(cls, name, bases, dct):\n",
    "        def say_hello(*args, **kwargs):\n",
    "            print(f'Hello')\n",
    "        x = super().__new__(cls, name, bases, dct)\n",
    "        x.hello = say_hello\n",
    "        return x\n",
    "        \n",
    "\n",
    "class Child(metaclass=Meta): \n",
    "    def __init__(self, name):\n",
    "        self.name = name\n",
    "\n",
    "\n",
    "c = Child('fufu')\n",
    "c.hello()"
   ]
  },
  {
   "cell_type": "markdown",
   "id": "fbef0a1a-e89c-44c6-8fb6-bf12eed79f4b",
   "metadata": {},
   "source": [
    "#### Задача 3. \n",
    "\n",
    "Напишите метакласс, который позволяет своим классам иметь только атрибуты name, surname, age и никаких других. "
   ]
  },
  {
   "cell_type": "code",
   "execution_count": 13,
   "id": "4b757c9d-f2d8-4931-8d88-d4d9df5dc2b5",
   "metadata": {},
   "outputs": [],
   "source": [
    "class Meta(type):\n",
    "    def __new__(cls, name, bases, dic):\n",
    "        dic['__slots__'] = ('name', 'surname', 'age')\n",
    "        return super().__new__(cls, name, bases, dic)\n",
    "\n"
   ]
  },
  {
   "cell_type": "code",
   "execution_count": null,
   "id": "015c0660",
   "metadata": {},
   "outputs": [],
   "source": [
    "class Meta(type):\n",
    "    def __new__(cls, name, bases, dic):\n",
    "        dic['__slots__'] = ('name', 'surname', 'age')\n",
    "        return super().__new__(cls, name, bases, dic)\n",
    "    \n",
    "class A(metaclass=Meta): pass \n",
    "\n",
    "dir(A)"
   ]
  },
  {
   "cell_type": "code",
   "execution_count": 19,
   "id": "cc4f9aeb",
   "metadata": {},
   "outputs": [
    {
     "ename": "AttributeError",
     "evalue": "'A' object has no attribute 'surname'",
     "output_type": "error",
     "traceback": [
      "\u001b[1;31m---------------------------------------------------------------------------\u001b[0m",
      "\u001b[1;31mAttributeError\u001b[0m                            Traceback (most recent call last)",
      "Cell \u001b[1;32mIn[19], line 6\u001b[0m\n\u001b[0;32m      4\u001b[0m a \u001b[38;5;241m=\u001b[39m A()\n\u001b[0;32m      5\u001b[0m a\u001b[38;5;241m.\u001b[39mname \u001b[38;5;241m=\u001b[39m \u001b[38;5;241m1\u001b[39m\n\u001b[1;32m----> 6\u001b[0m \u001b[43ma\u001b[49m\u001b[38;5;241;43m.\u001b[39;49m\u001b[43msurname\u001b[49m \u001b[38;5;241m=\u001b[39m \u001b[38;5;241m1\u001b[39m\n",
      "\u001b[1;31mAttributeError\u001b[0m: 'A' object has no attribute 'surname'"
     ]
    }
   ],
   "source": [
    "class A:\n",
    "    __slots__ = ('name',)\n",
    "\n",
    "a = A()\n",
    "a.name = 1\n",
    "a.surname = 1"
   ]
  },
  {
   "cell_type": "code",
   "execution_count": 14,
   "id": "c40b09bb",
   "metadata": {},
   "outputs": [],
   "source": [
    "class Named(metaclass= Meta):\n",
    "    def __init__(self, name, surname, age):\n",
    "        self.name = name\n",
    "        self.surname = surname\n",
    "        self.age = age\n",
    "\n",
    "c = Named('dv', 'asdcf', 12)"
   ]
  },
  {
   "cell_type": "code",
   "execution_count": 15,
   "id": "198e4b00",
   "metadata": {},
   "outputs": [
    {
     "ename": "AttributeError",
     "evalue": "'Named' object has no attribute 'map'",
     "output_type": "error",
     "traceback": [
      "\u001b[1;31m---------------------------------------------------------------------------\u001b[0m",
      "\u001b[1;31mAttributeError\u001b[0m                            Traceback (most recent call last)",
      "Cell \u001b[1;32mIn[15], line 1\u001b[0m\n\u001b[1;32m----> 1\u001b[0m \u001b[43mc\u001b[49m\u001b[38;5;241;43m.\u001b[39;49m\u001b[43mmap\u001b[49m \u001b[38;5;241m=\u001b[39m \u001b[38;5;241m1\u001b[39m\n",
      "\u001b[1;31mAttributeError\u001b[0m: 'Named' object has no attribute 'map'"
     ]
    }
   ],
   "source": [
    "c.map = 1"
   ]
  },
  {
   "cell_type": "code",
   "execution_count": 12,
   "id": "8d649590",
   "metadata": {},
   "outputs": [
    {
     "ename": "ValueError",
     "evalue": "Excess of parameters.",
     "output_type": "error",
     "traceback": [
      "\u001b[1;31m---------------------------------------------------------------------------\u001b[0m",
      "\u001b[1;31mValueError\u001b[0m                                Traceback (most recent call last)",
      "Cell \u001b[1;32mIn[12], line 7\u001b[0m\n\u001b[0;32m      4\u001b[0m         \u001b[38;5;28mself\u001b[39m\u001b[38;5;241m.\u001b[39mnotsurname \u001b[38;5;241m=\u001b[39m surname\n\u001b[0;32m      5\u001b[0m         \u001b[38;5;28mself\u001b[39m\u001b[38;5;241m.\u001b[39mage \u001b[38;5;241m=\u001b[39m age\n\u001b[1;32m----> 7\u001b[0m c \u001b[38;5;241m=\u001b[39m \u001b[43mNamed\u001b[49m\u001b[43m(\u001b[49m\u001b[38;5;124;43m'\u001b[39;49m\u001b[38;5;124;43mdv\u001b[39;49m\u001b[38;5;124;43m'\u001b[39;49m\u001b[43m,\u001b[49m\u001b[43m \u001b[49m\u001b[38;5;124;43m'\u001b[39;49m\u001b[38;5;124;43masdcf\u001b[39;49m\u001b[38;5;124;43m'\u001b[39;49m\u001b[43m,\u001b[49m\u001b[43m \u001b[49m\u001b[38;5;241;43m12\u001b[39;49m\u001b[43m)\u001b[49m\n",
      "Cell \u001b[1;32mIn[12], line 4\u001b[0m, in \u001b[0;36mNamed.__init__\u001b[1;34m(self, name, surname, age)\u001b[0m\n\u001b[0;32m      2\u001b[0m \u001b[38;5;28;01mdef\u001b[39;00m \u001b[38;5;21m__init__\u001b[39m(\u001b[38;5;28mself\u001b[39m, name, surname, age):\n\u001b[0;32m      3\u001b[0m     \u001b[38;5;28mself\u001b[39m\u001b[38;5;241m.\u001b[39mname \u001b[38;5;241m=\u001b[39m name\n\u001b[1;32m----> 4\u001b[0m     \u001b[38;5;28;43mself\u001b[39;49m\u001b[38;5;241;43m.\u001b[39;49m\u001b[43mnotsurname\u001b[49m \u001b[38;5;241m=\u001b[39m surname\n\u001b[0;32m      5\u001b[0m     \u001b[38;5;28mself\u001b[39m\u001b[38;5;241m.\u001b[39mage \u001b[38;5;241m=\u001b[39m age\n",
      "Cell \u001b[1;32mIn[4], line 9\u001b[0m, in \u001b[0;36mMyMetaClass.__new__.<locals>.settattr_modified\u001b[1;34m(self, key, value)\u001b[0m\n\u001b[0;32m      7\u001b[0m    \u001b[38;5;28mself\u001b[39m\u001b[38;5;241m.\u001b[39m\u001b[38;5;18m__dict__\u001b[39m[key] \u001b[38;5;241m=\u001b[39m value\n\u001b[0;32m      8\u001b[0m \u001b[38;5;28;01melse\u001b[39;00m:\n\u001b[1;32m----> 9\u001b[0m     \u001b[38;5;28;01mraise\u001b[39;00m \u001b[38;5;167;01mValueError\u001b[39;00m(\u001b[38;5;124m\"\u001b[39m\u001b[38;5;124mExcess of parameters.\u001b[39m\u001b[38;5;124m\"\u001b[39m)\n",
      "\u001b[1;31mValueError\u001b[0m: Excess of parameters."
     ]
    }
   ],
   "source": [
    "class Named(metaclass= Meta):\n",
    "    def __init__(self, name, surname, age):\n",
    "        self.name = name\n",
    "        self.notsurname = surname\n",
    "        self.age = age\n",
    "\n",
    "c = Named('dv', 'asdcf', 12)"
   ]
  },
  {
   "cell_type": "markdown",
   "id": "50fd191e-dd8a-4bda-9229-529b126ceb3b",
   "metadata": {},
   "source": [
    "#### Задача 4 (2 балла). \n",
    "\n",
    "Приготовимся в большом проекте создать игру-стратегию (графику потом дизайнеры добавят). Наша игра будет называться Dawn of Man, и задачей игрока будет управлять поселением первобытных людей, которые в процессе набирают очки знаний и открывают новые технологии. Наши люди - это отдельные юниты, которые умеют взаимодействовать с элементами окружающей среды: у них будут какие-то инструменты для создания еды, оружия и прочего (например, какой-нибудь навес, под которым человек садится, набрав палок и камней, и ваяет себе палку-копалку). \n",
    "\n",
    "Наша задача - набросать черновик для игры: создать абстрактные классы для людей, объектов, с которыми они взаимодействуют, чтобы создавать вещи, и собственно вещей. Возможно, имеет смысл также предусмотреть черновик-класс для животных, на которых люди будут охотиться. \n",
    "\n",
    "Попробуйте также создать конкретный класс для кого-нибудь из них. "
   ]
  },
  {
   "cell_type": "code",
   "execution_count": null,
   "id": "6e644cce-f06e-4d69-b451-935915630b3a",
   "metadata": {},
   "outputs": [
    {
     "name": "stdout",
     "output_type": "stream",
     "text": [
      "Petya и Masha сегодня друг другу нравятся, настроение увеличилось до 13, отношения 1\n"
     ]
    }
   ],
   "source": [
    "from abc import ABC, abstractmethod\n",
    "from random import randint, choice\n",
    "\n",
    "class Human(ABC):\n",
    "    def __init__(self, name, gender, age : int):\n",
    "        self.name = name\n",
    "        self.age = age\n",
    "        self.gender = gender\n",
    "        self.wisdom = 0\n",
    "        self.energy = 10\n",
    "        self.supply = {}\n",
    "        self.friends = {}\n",
    "        self.mood = 10\n",
    "    \n",
    "    @abstractmethod\n",
    "    def sleep(self, n):\n",
    "        self.energy += n\n",
    "        print(f'{self.name} спит {n} часов и восстанавливает энергию до {self.energy}')\n",
    "    \n",
    "    @abstractmethod\n",
    "    def eat(self, food):\n",
    "        if food.name in self.supply:\n",
    "            self.energy += food.energy\n",
    "            self.supply[food.name] -= 1\n",
    "            print(f'{self.name} съедает {food.name}, восстанавливает энергию до {self.energy}')\n",
    "        else:\n",
    "            print(f'{food.name} нет в запасах!')\n",
    "    \n",
    "    @abstractmethod\n",
    "    def explore(self, region):\n",
    "        found_item = Instrument(\"Примитивное оружие\")\n",
    "        self.wisdom += 1\n",
    "        print(f'{self.name} исследует {region}, повышает мудрость до {self.wisdom} и находит {found_item.name}')\n",
    "    \n",
    "    @abstractmethod\n",
    "    def get_food(self, instrument):\n",
    "        if instrument.category == \"weapon\":\n",
    "            animal_size = randint(10, 20) if instrument.level >= 4 else randint(5, 10) if instrument.level == 3 else randint(1, 5)\n",
    "            hunted_animal = Animal(species=\"Животное\", size=animal_size) #можно сделать класс для мира, в котором будут храниться все доступные виды животных и выбирать из них, но у меня не хватило терпения\n",
    "            print(f'{self.name} охотится с {instrument.name} и добывает {hunted_animal.size} животное')\n",
    "            meat = Food(name=\"мясо\", energy=5)\n",
    "            meat.set_category(\"meat\")\n",
    "            \n",
    "            if meat.name in self.supply:\n",
    "                self.supply[meat.name] += hunted_animal.size\n",
    "            else:\n",
    "                self.supply[meat.name] = hunted_animal.size\n",
    "            print(f'Добавлено мясо. Теперь в запасе: {self.supply[meat.name]} единиц мяса')\n",
    "\n",
    "        elif instrument.category == \"instrument\":\n",
    "            plant = Food(name=\"Овощ\", energy=3)\n",
    "            plant.set_category(\"plant\")\n",
    "            amount = instrument.level\n",
    "\n",
    "            if plant.name in self.supply:\n",
    "                self.supply[plant.name] += amount\n",
    "            else:\n",
    "                self.supply[plant.name] = amount\n",
    "            print(f'{self.name} собирает растения с помощью {instrument.name}. Теперь в запасе: {self.supply[plant.name]} единиц растений')\n",
    "    \n",
    "    @abstractmethod\n",
    "    def communicate(self, human):\n",
    "        if human not in self.friends:\n",
    "            self.friends[human] = 0  \n",
    "        \n",
    "        mood_effect = choice([-1, 1]) if (self.mood + human.mood) > 10 else choice([-1, -1, 1]) #в зависимости от того, какое у обоих настроение, они либо поругаются, либо вместе порадуются, правда в любом случае станут друзьямм\n",
    "        \n",
    "        if mood_effect == 1:\n",
    "            self.mood += randint(1, 3)\n",
    "            self.friends[human] += 1\n",
    "            print(f'{self.name} и {human.name} сегодня друг другу нравятся, настроение увеличилось до {self.mood}, отношения {self.friends[human]}')\n",
    "        else:\n",
    "            self.mood -= randint(1, 3)\n",
    "            self.friends[human] -= 1\n",
    "            print(f'{self.name} и {human.name} сегодня друг друга раздражают, настроение снизилось до {self.mood}, отношения {self.friends[human]}')\n",
    "\n",
    "\n",
    "class Food(ABC):\n",
    "    def __init__(self, name, energy: int):\n",
    "        self.name = name\n",
    "        self.energy = energy\n",
    "    \n",
    "    @abstractmethod\n",
    "    def get_category(self):\n",
    "        return self.category\n",
    "\n",
    "    @abstractmethod\n",
    "    def set_category(self, value):\n",
    "        if value in ['meat', 'plant']:\n",
    "            self.category = value\n",
    "    category = property(get_category, set_category)\n",
    "\n",
    "\n",
    "\n",
    "class Instrument(ABC):\n",
    "    def __init__(self, name):\n",
    "        self.name = name\n",
    "        self.level = randint(1, 5)\n",
    "    \n",
    "    @abstractmethod\n",
    "    def get_category(self):\n",
    "        return self.category\n",
    "\n",
    "    @abstractmethod\n",
    "    def set_category(self, value):\n",
    "        if value in ['instrument', 'weapon']:\n",
    "            self.category = value\n",
    "    category = property(get_category, set_category)\n",
    "\n",
    "\n",
    "\n",
    "class Animal(ABC):\n",
    "    def __init__(self, species, size : int):\n",
    "        self.species = species\n",
    "        self.size = size\n",
    "\n",
    "    \n",
    "\n",
    "\n",
    "class PrimitiveHuman(Human):\n",
    "    def sleep(self, n):\n",
    "        super().sleep(n) \n",
    "    \n",
    "    def eat(self, food):\n",
    "        super().eat(food)\n",
    "    \n",
    "    def explore(self, region):\n",
    "        super().explore(region)\n",
    "    \n",
    "    def get_food(self, instrument):\n",
    "        super().get_food(instrument)\n",
    "    \n",
    "    def communicate(self, human):\n",
    "        super().communicate(human)\n",
    "\n",
    "\n",
    "h = PrimitiveHuman('Petya', 'male', 20) \n",
    "s = PrimitiveHuman('Masha', 'female', 18) \n",
    "h.communicate(s)\n",
    "   \n",
    "#не уверена, что до конца поняла, что было нужно сделать, как будто бы получилось, что абстрактные классы в моей задаче вполне могли быть конкретными и ничего не поменялось бы...\n",
    "\n",
    "\n",
    "    "
   ]
  }
 ],
 "metadata": {
  "kernelspec": {
   "display_name": "Python 3",
   "language": "python",
   "name": "python3"
  },
  "language_info": {
   "codemirror_mode": {
    "name": "ipython",
    "version": 3
   },
   "file_extension": ".py",
   "mimetype": "text/x-python",
   "name": "python",
   "nbconvert_exporter": "python",
   "pygments_lexer": "ipython3",
   "version": "3.10.11"
  }
 },
 "nbformat": 4,
 "nbformat_minor": 5
}
