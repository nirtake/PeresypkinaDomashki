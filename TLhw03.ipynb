{
 "cells": [
  {
   "cell_type": "markdown",
   "id": "13ab0a72-3e26-4c62-9a5d-efd35e396392",
   "metadata": {},
   "source": [
    "#### Задача 1. \n",
    "\n",
    "Известно, что в итальянском языке буква с читается по-разному: если после нее идут буквы i и е, то она читается как \"ч\", а если a, o, u - то как \"к\". Две с удваиваются в любом варианте. Сочетание gl читается как ль. Нам нужно помочь человеку, изучающему язык, и для введенных им слов подсказывать ему, как правильно читается фраза. Например:\n",
    "\n",
    "    >>> cio che lui fa\n",
    "    >>> CHo Ke lui fa\n",
    "    >>> pagliaccio\n",
    "    >>> paL'aCHCHo\n",
    "    >>> è meglio che lo faccia tu\n",
    "    >>> è meL'io Ke lo faCHCHa tu"
   ]
  },
  {
   "cell_type": "code",
   "execution_count": 67,
   "id": "7411542a-8251-4453-9540-fa59821d3d20",
   "metadata": {},
   "outputs": [
    {
     "name": "stdout",
     "output_type": "stream",
     "text": [
      "e megl[ль]io che lo facc[ч]ia tu\n"
     ]
    }
   ],
   "source": [
    "# your code here\n",
    "a = input().lower()\n",
    "a = a.replace('ci', 'c[ч]i')\n",
    "a = a.replace('ce', 'c[ч]e')\n",
    "a = a.replace('co', 'c[к]o')\n",
    "a = a.replace('ca', 'c[к]a')\n",
    "a = a.replace('cu', 'c[к]u')\n",
    "a = a.replace('gl', 'gl[ль]')\n",
    "a = a.replace('cci', 'cc[чч]i')\n",
    "a = a.replace('cce', 'cc[чч]e')\n",
    "a = a.replace('cca', 'cc[кк]a')\n",
    "a = a.replace('cco', 'cc[кк]o')\n",
    "a = a.replace('ccu', 'cc[кк]u')\n",
    "print(a)\n",
    "#я почти уверена, что это можно было написать короче, и не уверена, что поняла условия: речь ведь идет о первой букве после \"c\", а не первой гласной, т.е. сочеание \"ch\" не меняется?\n",
    "\n",
    "\n"
   ]
  },
  {
   "cell_type": "markdown",
   "id": "95892d08-3546-42ae-875a-319d6083e067",
   "metadata": {},
   "source": [
    "#### Задача 2. \n",
    "\n",
    "Программа считывает с клавиатуры какой-нибудь довольно большой текст (пару предложений) и должна посчитать, сколько раз в этом тексте встретился союз \"и\" (считаем, что вокруг союза обязательно есть по пробелу: \" и \"). "
   ]
  },
  {
   "cell_type": "code",
   "execution_count": 56,
   "id": "9ba8d83a-1671-4af9-a691-78849c4ff613",
   "metadata": {},
   "outputs": [
    {
     "data": {
      "text/plain": [
       "3"
      ]
     },
     "execution_count": 56,
     "metadata": {},
     "output_type": "execute_result"
    }
   ],
   "source": [
    "# your code here\n",
    "input().count(' и ')\n"
   ]
  },
  {
   "cell_type": "markdown",
   "id": "40306261-7387-45f1-b193-e6be4f7eb09c",
   "metadata": {},
   "source": [
    "#### Задача 3. \n",
    "\n",
    "Пользователь вводит строчку. Наша задача - вернуть ее задом наперед (н-р, \"йцукен\" должно превратиться в \"некуцй\"). Используйте срезы."
   ]
  },
  {
   "cell_type": "code",
   "execution_count": 1,
   "id": "a0cb7788-ed1e-4b85-882e-8bc874d0bbd7",
   "metadata": {},
   "outputs": [
    {
     "name": "stdout",
     "output_type": "stream",
     "text": [
      "fed cba\n"
     ]
    }
   ],
   "source": [
    "# your code here\n",
    "a = input()\n",
    "print(a[::-1])"
   ]
  },
  {
   "cell_type": "markdown",
   "id": "1c3785ef-25aa-475f-b6ac-a42520e54746",
   "metadata": {},
   "source": [
    "#### Задача 4. \n",
    "\n",
    "Дана строка. Разрежьте ее на две равные части (если длина строки — четная, а если длина строки нечетная, то длина первой части должна быть на один символ больше). Переставьте эти две части местами, результат запишите в новую строку и выведите на экран."
   ]
  },
  {
   "cell_type": "code",
   "execution_count": 11,
   "id": "63651424-f251-44ab-87d1-32a55e753813",
   "metadata": {},
   "outputs": [
    {
     "name": "stdout",
     "output_type": "stream",
     "text": [
      "гдабв\n"
     ]
    }
   ],
   "source": [
    "# your code here\n",
    "a = input()\n",
    "if len(a) % 2 == 0:\n",
    "    b = a[len(a) // 2:] + a[: len(a) // 2]\n",
    "else:\n",
    "    b = a[(len(a) // 2) + 1 :] + a[: (len(a) // 2) + 1]\n",
    "print(b)\n",
    " "
   ]
  },
  {
   "cell_type": "markdown",
   "id": "9d25ac51-b920-425b-85d5-8ebb234f2b4d",
   "metadata": {},
   "source": [
    "#### Задача 5. \n",
    "\n",
    "Дана строка, состоящая ровно из двух слов, разделенных пробелом. Переставьте эти слова местами. Результат запишите в строку и выведите получившуюся строку."
   ]
  },
  {
   "cell_type": "code",
   "execution_count": 31,
   "id": "e1b67595-a918-4d4e-b970-b54ca7018429",
   "metadata": {},
   "outputs": [
    {
     "name": "stdout",
     "output_type": "stream",
     "text": [
      "кошка рыжая\n"
     ]
    }
   ],
   "source": [
    "# your code here\n",
    "a = input()\n",
    "b = a[a.find(' ') + 1:] + \" \" + a[:a.find(' ')]\n",
    "print(b)"
   ]
  },
  {
   "cell_type": "markdown",
   "id": "02293832-374f-467b-955c-8c13a24d34cf",
   "metadata": {},
   "source": [
    "#### Задача 6. \n",
    "\n",
    "Дана строка. Если в этой строке буква f встречается только один раз, выведите её индекс. Если она встречается два и более раз, выведите индекс её первого и последнего появления. Если буква f в данной строке не встречается, ничего не выводите."
   ]
  },
  {
   "cell_type": "code",
   "execution_count": 39,
   "id": "62d441b0-3237-40b7-9163-b92d9bf12702",
   "metadata": {},
   "outputs": [
    {
     "name": "stdout",
     "output_type": "stream",
     "text": [
      "0 6\n"
     ]
    }
   ],
   "source": [
    "# your code here\n",
    "a = input()\n",
    "if a.find('f') < 0:\n",
    "    print()\n",
    "elif a[a.find('f') + 1:].find('f') >= 0:\n",
    "    print(a.find('f'), a.rfind('f'))    \n",
    "else:\n",
    "    print(a.find('f'))"
   ]
  },
  {
   "cell_type": "markdown",
   "id": "ff719f25-a59a-4e36-8bb2-1874ec0a79c6",
   "metadata": {},
   "source": [
    "#### Задача 7. \n",
    "\n",
    "Дана строка. Найдите в этой строке второе вхождение буквы f, и выведите индекс этого вхождения. Если буква f в данной строке встречается только один раз, выведите число -1, а если не встречается ни разу, выведите число -2."
   ]
  },
  {
   "cell_type": "code",
   "execution_count": 54,
   "id": "91da8bf8-bff6-47b6-9ee3-d51a4a25cb62",
   "metadata": {},
   "outputs": [
    {
     "name": "stdout",
     "output_type": "stream",
     "text": [
      "5\n"
     ]
    }
   ],
   "source": [
    "# your code here\n",
    "a = input()\n",
    "if a.find('f') < 0:\n",
    "    print(-2)\n",
    "elif a[a.find('f') + 1:].find('f') >= 0:\n",
    "    print(a.find('f', a.find('f') + 1))   \n",
    "else:\n",
    "    print(-1)"
   ]
  },
  {
   "cell_type": "markdown",
   "id": "670e4941-c0f1-4419-be51-1f8c3762a356",
   "metadata": {},
   "source": [
    "#### Задача 8. \n",
    "\n",
    "Дана строка, в которой буква h встречается минимум два раза. Удалите из этой строки первое и последнее вхождение буквы h, а также все символы, находящиеся между ними.\n",
    "\n",
    "Например, для строки \"In the hole in the ground there lived a hobbit\" результатом должно стать \"In tobbit\"."
   ]
  },
  {
   "cell_type": "code",
   "execution_count": 21,
   "id": "b70b3d56-b952-48b9-96a7-0f51e8f02d23",
   "metadata": {},
   "outputs": [
    {
     "data": {
      "text/plain": [
       "'In tobbit'"
      ]
     },
     "execution_count": 21,
     "metadata": {},
     "output_type": "execute_result"
    }
   ],
   "source": [
    "# your code here\n",
    "a = input()\n",
    "a.replace(a[a.find('h'):a.rfind('h') + 1], '')"
   ]
  },
  {
   "cell_type": "markdown",
   "id": "5bfd0835-816f-4b63-924a-6b8ffc450f84",
   "metadata": {},
   "source": [
    "#### Задача 9. \n",
    "\n",
    "Дана строка, в которой буква h встречается как минимум два раза. Разверните последовательность символов, заключенную между первым и последним появлением буквы h, в противоположном порядке."
   ]
  },
  {
   "cell_type": "code",
   "execution_count": 60,
   "id": "41626b06-dd63-44d6-95b4-4e745d3b1ec5",
   "metadata": {},
   "outputs": [
    {
     "name": "stdout",
     "output_type": "stream",
     "text": [
      "aaahcbahaaa\n"
     ]
    }
   ],
   "source": [
    "# your code here\n",
    "a = input()\n",
    "print(a[:a.find('h') + 1] + a[a.rfind('h') - 1:a.find('h'):-1]  + a[a.rfind('h'):])"
   ]
  },
  {
   "cell_type": "markdown",
   "id": "96ae2098-dc1f-4b2a-adcf-57a76d1ca64c",
   "metadata": {},
   "source": [
    "#### Задача 10. \n",
    "\n",
    "Дана строка. Замените в этой строке все появления буквы h на букву H, кроме первого и последнего вхождения."
   ]
  },
  {
   "cell_type": "code",
   "execution_count": 14,
   "id": "898c8d3a-1555-48d9-b0af-763f2617434d",
   "metadata": {},
   "outputs": [
    {
     "data": {
      "text/plain": [
       "'hsefHsdfHsdcHsacsHsdch'"
      ]
     },
     "execution_count": 14,
     "metadata": {},
     "output_type": "execute_result"
    }
   ],
   "source": [
    "# your code here\n",
    "a = input()\n",
    "a.replace(a[a.find('h') + 1: a.rfind('h')], a[a.find('h') + 1: a.rfind('h')].replace('h', 'H'))\n",
    "\n",
    "        \n"
   ]
  }
 ],
 "metadata": {
  "kernelspec": {
   "display_name": "Python 3 (ipykernel)",
   "language": "python",
   "name": "python3"
  },
  "language_info": {
   "codemirror_mode": {
    "name": "ipython",
    "version": 3
   },
   "file_extension": ".py",
   "mimetype": "text/x-python",
   "name": "python",
   "nbconvert_exporter": "python",
   "pygments_lexer": "ipython3",
   "version": "3.10.11"
  }
 },
 "nbformat": 4,
 "nbformat_minor": 5
}
