{
 "cells": [
  {
   "cell_type": "markdown",
   "id": "6bad6b38-eca0-4cfc-ac6a-2723a3cbb50a",
   "metadata": {},
   "source": [
    "#### Задача 1. \n",
    "\n",
    "Ученики одной школы все знают хотя бы по одному языку. Программа получает число школьников, а потом в цикле for собирает сведения о их языках, н-р:\n",
    "\n",
    "    2\n",
    "    English Bulgarian\n",
    "    English Romanian\n",
    "    \n",
    "Нужно узнать, какие языки знает хотя бы один школьник и какие языки знают все школьники."
   ]
  },
  {
   "cell_type": "code",
   "execution_count": 5,
   "id": "660eafc9-7667-441a-954e-a3617941bdfd",
   "metadata": {},
   "outputs": [
    {
     "name": "stdout",
     "output_type": "stream",
     "text": [
      "Языки, которые знают все школьники: {'Eng'}, все языки, на которых говорят школьники: {'Ru', 'Eng', 'Sw'}\n"
     ]
    }
   ],
   "source": [
    "# your code here\n",
    "Klass = []\n",
    "for x in range(int(input('Введите количество учеников'))):\n",
    "    Klass.append(set(input('Введите языки для каждого ученика ').split()))\n",
    "vse = set.intersection(*Klass)\n",
    "lang = set.union(*Klass)\n",
    "\n",
    "print(f'Языки, которые знают все школьники: {vse}, все языки, на которых говорят школьники: {lang}')\n",
    "\n"
   ]
  },
  {
   "cell_type": "markdown",
   "id": "359818d1-46c4-43c1-b9c6-719cd83c06a7",
   "metadata": {},
   "source": [
    "#### Задача 2. \n",
    "\n",
    "Напишите функцию, которая будет принимать строку, в которой содержится любой текст (положим, русскоязычный), и возвращать список, содержащий только слова (для удаления пунктуации можно воспользоваться punctuation из модуля string, если хочется). Если умеете пользоваться регулярками - можно использовать регулярки. \n",
    "\n",
    "Посчитайте частотный список слов для текста в этой строке. "
   ]
  },
  {
   "cell_type": "code",
   "execution_count": 20,
   "id": "37a6a911-03c9-4fdb-960e-644cfbf55a13",
   "metadata": {},
   "outputs": [
    {
     "data": {
      "text/plain": [
       "Counter({'в': 2,\n",
       "         'список': 2,\n",
       "         'для': 2,\n",
       "         'можно': 2,\n",
       "         'Напишите': 1,\n",
       "         'функцию': 1,\n",
       "         'которая': 1,\n",
       "         'будет': 1,\n",
       "         'принимать': 1,\n",
       "         'строку': 1,\n",
       "         'которой': 1,\n",
       "         'содержится': 1,\n",
       "         'любой': 1,\n",
       "         'текст': 1,\n",
       "         'положим': 1,\n",
       "         'русскоязычный': 1,\n",
       "         'и': 1,\n",
       "         'возвращать': 1,\n",
       "         'содержащий': 1,\n",
       "         'только': 1,\n",
       "         'слова': 1,\n",
       "         'удаления': 1,\n",
       "         'пунктуации': 1,\n",
       "         'воспользоваться': 1,\n",
       "         'punctuation': 1,\n",
       "         'из': 1,\n",
       "         'модуля': 1,\n",
       "         'string': 1,\n",
       "         'если': 1,\n",
       "         'хочется': 1,\n",
       "         'Если': 1,\n",
       "         'умеете': 1,\n",
       "         'пользоваться': 1,\n",
       "         'регулярками': 1,\n",
       "         'использовать': 1,\n",
       "         'регулярки': 1,\n",
       "         'Посчитайте': 1,\n",
       "         'частотный': 1,\n",
       "         'слов': 1,\n",
       "         'текста': 1,\n",
       "         'этой': 1,\n",
       "         'строке': 1})"
      ]
     },
     "execution_count": 20,
     "metadata": {},
     "output_type": "execute_result"
    }
   ],
   "source": [
    "# your code here\n",
    "import string\n",
    "from collections import Counter\n",
    "def alpha(text):\n",
    "    text = text.translate(str.maketrans('', '', string.punctuation)).split()\n",
    "    T = []\n",
    "    for x in text:\n",
    "        if x.isalpha():\n",
    "            T.append(x)\n",
    "        else:\n",
    "            continue\n",
    "    return T\n",
    "\n",
    "Counter(alpha(\"\"\"Напишите функцию, которая будет принимать строку, в которой содержится любой текст (положим, русскоязычный), и возвращать список, содержащий только слова (для удаления пунктуации можно воспользоваться punctuation из модуля string, если хочется). Если умеете пользоваться регулярками - можно использовать регулярки. \n",
    "\n",
    "Посчитайте частотный список слов для текста в этой строке.\"\"\"))\n",
    "\n",
    "#Надеюсь, я правильно поняла, что частотный список должен считаться не внутри функции.\n",
    "\n",
    "\n"
   ]
  },
  {
   "cell_type": "markdown",
   "id": "552bc43b-804b-41d3-a482-35ad54f36e06",
   "metadata": {},
   "source": [
    "#### Задача 3. \n",
    "\n",
    "Положим, у нас есть список со вложенными списками (глубина вложенности может быть какая угодно: это может быть список списков списков...). Напишите функцию, которая будет рекурсивно обходить все элементы в этих списках и посчитает, сколько всего встретилось уникальных элементов. Считаем, что эти элементы - целые числа (вам понадобится проверять type(x) == int). "
   ]
  },
  {
   "cell_type": "code",
   "execution_count": 83,
   "id": "e2059e5b-4491-412f-be9f-ebf3192278d9",
   "metadata": {},
   "outputs": [
    {
     "data": {
      "text/plain": [
       "{1, 2, 45, 234}"
      ]
     },
     "execution_count": 83,
     "metadata": {},
     "output_type": "execute_result"
    }
   ],
   "source": [
    "# your code here\n",
    "def unic(spisok):\n",
    "    U = []\n",
    "    for x in spisok:\n",
    "        if type(x) != list:\n",
    "            if type(x) == int:\n",
    "                U.append(x)\n",
    "            else:\n",
    "                continue\n",
    "        else:\n",
    "            U.extend(unic(x))\n",
    "    return set(U)\n",
    "\n",
    "unic([[[1, 2, 't5rf'], [45, 34.5]], [1, 234, 45]])\n",
    "#Я не понимаю, как мне посчитать длину множества, если я запишу len в return, то внутри функции не получится использовать рекурсию.        "
   ]
  },
  {
   "cell_type": "markdown",
   "id": "be46c202-8887-4cdb-a6c2-acd40c86403f",
   "metadata": {},
   "source": [
    "#### Задача 4. \n",
    "\n",
    "Напишите функцию для сложения матриц."
   ]
  },
  {
   "cell_type": "code",
   "execution_count": 27,
   "id": "c5043381-10a6-4562-860c-0ff22d51c0db",
   "metadata": {},
   "outputs": [
    {
     "data": {
      "text/plain": [
       "[<map at 0x277e29b9180>, <map at 0x277e29b8580>]"
      ]
     },
     "execution_count": 27,
     "metadata": {},
     "output_type": "execute_result"
    }
   ],
   "source": [
    "# your code here\n",
    "def adding(*M):\n",
    "    A = [map(sum, zip(*i)) for i in zip(M)]\n",
    "    return A\n",
    "\n",
    "adding([[1, 2, 3], [1, 2, 3]], [[3, 2, 1], [3, 2, 1]])\n",
    "\n",
    "#я думала, что оно будет работать для неограниченного числа матриц, но оно возвращает что-то странное, хотя я, вроде бы, сделала список из map."
   ]
  },
  {
   "cell_type": "code",
   "execution_count": 30,
   "id": "b211d4e3",
   "metadata": {},
   "outputs": [
    {
     "data": {
      "text/plain": [
       "[[4, 4, 4], [4, 4, 4]]"
      ]
     },
     "execution_count": 30,
     "metadata": {},
     "output_type": "execute_result"
    }
   ],
   "source": [
    "def adding(M1, M2):\n",
    "    A = [[M1[i][j] + M2[i][j] for j in range(len(M1[0]))] for i in range(len(M1))]\n",
    "    return A\n",
    "\n",
    "adding([[1, 2, 3], [1, 2, 3]], [[3, 2, 1], [3, 2, 1]])\n",
    "\n",
    "#а как через цикл складывать больше двух матриц, я не догадалась :("
   ]
  },
  {
   "cell_type": "markdown",
   "id": "10fcf684-2ee1-4342-9c0a-1c959a473320",
   "metadata": {},
   "source": [
    "#### Задача 5. \n",
    "\n",
    "Напишите функцию для умножения матриц."
   ]
  },
  {
   "cell_type": "code",
   "execution_count": 34,
   "id": "8b95b0a2-93c8-4a76-9795-9702a584aa94",
   "metadata": {},
   "outputs": [
    {
     "data": {
      "text/plain": [
       "[[10, 14], [7, 10]]"
      ]
     },
     "execution_count": 34,
     "metadata": {},
     "output_type": "execute_result"
    }
   ],
   "source": [
    "# your code here\n",
    "def umnozh(M1, M2):\n",
    "    U = [[sum(M1[i][x] * M2[x][j] for x in range(len(M1[0]))) for j in range(len(M2[0]))] for i in range(len(M1))]\n",
    "    return U\n",
    "\n",
    "umnozh([[2, 2], [1, 2]], [[3, 4], [2, 3]])"
   ]
  },
  {
   "cell_type": "markdown",
   "id": "1f145040-6a4e-44e5-a0f0-99d76a8f5413",
   "metadata": {},
   "source": [
    "#### Задача 6. \n",
    "\n",
    "Напишите функцию, которая генерирует [матрицу сдвига](https://ru.wikipedia.org/wiki/%D0%9C%D0%B0%D1%82%D1%80%D0%B8%D1%86%D0%B0_%D1%81%D0%B4%D0%B2%D0%B8%D0%B3%D0%B0). У функции должно быть два параметра: n (размер матрицы) и bias (на сколько столбцов сдвигать)."
   ]
  },
  {
   "cell_type": "code",
   "execution_count": null,
   "id": "4ba92bad-1317-443f-b737-41ee396c4c7e",
   "metadata": {},
   "outputs": [],
   "source": [
    "# your code here"
   ]
  },
  {
   "cell_type": "markdown",
   "id": "bbe7efcb-ae28-40ad-935e-b7f231207779",
   "metadata": {},
   "source": [
    "#### Задача 7. \n",
    "\n",
    "Напишите функцию transpose(m), которая будет транспонировать матрицу."
   ]
  },
  {
   "cell_type": "code",
   "execution_count": 44,
   "id": "445846ac-fe77-40f3-92cc-d3e5f719a47e",
   "metadata": {},
   "outputs": [
    {
     "data": {
      "text/plain": [
       "[[4, 3], [2, 4], [0, 5]]"
      ]
     },
     "execution_count": 44,
     "metadata": {},
     "output_type": "execute_result"
    }
   ],
   "source": [
    "# your code here\n",
    "def transpose(M):\n",
    "    T = [[M[i][j] for i in range(len(M))] for j in range(len(M[0]))]\n",
    "    return T\n",
    "\n",
    "transpose([[4, 2, 0], [3, 4, 5]])\n",
    "\n"
   ]
  },
  {
   "cell_type": "markdown",
   "id": "5bc74489-65ad-4854-a223-d22b2fd6e64d",
   "metadata": {},
   "source": [
    "#### Задача 8 (\\*). \n",
    "\n",
    "Жизнь. Напишите игру \"Жизнь\". Что это такое - читайте в википедии и здесь: http://www.michurin.net/online-tools/life-game.html \n",
    "\n",
    "Вообще говоря, это не игра в привычном понимании этого слова, а процесс. В простейшем виде достаточно раз в 0.1 секунды выводить на экран обновлённое поле (обновлять консоль можно с помощью команды os.clear('cls'), модуль os. Для macOS может немного отличаться, погуглите). Для рамочек можно использовать специальные символы для рисования рамочек (найдите в таблице unicode). Пробел - пустая клетка, живая клетка может быть обозначена, например, символом '+'. Начальное поле генерируется случайным образом, вероятность появления жизни в клетке при начальной генерации - должна быть настраиваемым параметром. Размеры поля вводит пользователь при запуске программы. Также должна быть возможность в качестве начальной популяции использовать [R-pentomino](http://www.conwaylife.com/wiki/R-pentomino)."
   ]
  },
  {
   "cell_type": "code",
   "execution_count": null,
   "id": "fbd943ec-39aa-4129-9a60-c5b13f43234c",
   "metadata": {},
   "outputs": [],
   "source": [
    "# your code here"
   ]
  },
  {
   "cell_type": "markdown",
   "id": "a52faff1-12e5-4ae9-97d2-698f9862e58a",
   "metadata": {},
   "source": [
    "#### Задача 9. \n",
    "\n",
    "Рекурсивная генерация последовательностей На вход программе задается два числа N и K. Напечатайте все последовательности длины N, на каждом месте в последовательности может стоять любое число от 1 до K, но нигде подряд не стоит двух одинаковых чисел. Программа должна напечатать все такие последовательности в лексикографическом порядке. Каждая последовательность должна быть напечатана на отдельной строке. Числа в последовательности должны разделяться пробелами.\n",
    "\n",
    "Пример входных данных:\n",
    "\n",
    "    4 3\n",
    "\n",
    "Пример выходных данных:\n",
    "\n",
    "    1 2 1 2\n",
    "    1 2 1 3\n",
    "    1 2 3 1\n",
    "    1 2 3 2\n",
    "    1 3 1 2\n",
    "    1 3 1 3\n",
    "    1 3 2 1\n",
    "    1 3 2 3\n",
    "    2 1 2 1\n",
    "    2 1 2 3\n",
    "    2 1 3 1\n",
    "    2 1 3 2\n",
    "    2 3 1 2\n",
    "    2 3 1 3\n",
    "    2 3 2 1\n",
    "    2 3 2 3\n",
    "    3 1 2 1\n",
    "    3 1 2 3\n",
    "    3 1 3 1\n",
    "    3 1 3 2\n",
    "    3 2 1 2\n",
    "    3 2 1 3\n",
    "    3 2 3 1\n",
    "    3 2 3 2"
   ]
  },
  {
   "cell_type": "code",
   "execution_count": null,
   "id": "6bf0d84f-a7e1-4749-af82-2e7cc0a93a51",
   "metadata": {},
   "outputs": [],
   "source": [
    "# your code here"
   ]
  }
 ],
 "metadata": {
  "kernelspec": {
   "display_name": "Python 3 (ipykernel)",
   "language": "python",
   "name": "python3"
  },
  "language_info": {
   "codemirror_mode": {
    "name": "ipython",
    "version": 3
   },
   "file_extension": ".py",
   "mimetype": "text/x-python",
   "name": "python",
   "nbconvert_exporter": "python",
   "pygments_lexer": "ipython3",
   "version": "3.10.11"
  }
 },
 "nbformat": 4,
 "nbformat_minor": 5
}
