{
 "cells": [
  {
   "cell_type": "markdown",
   "id": "c019d62c-fc6f-49c6-90c8-08d935853b68",
   "metadata": {},
   "source": [
    "#### Задача 1. \n",
    "\n",
    "Напишем класс - имитацию класса Token в spacy: у класса должен быть определенный набор атрибутов, создавать новые нельзя. По умолчанию все атрибуты, кроме text, устанавливаются в None, у класса есть методы для установления этих атрибутов (обычные методы экземпляра). "
   ]
  },
  {
   "cell_type": "code",
   "execution_count": null,
   "id": "e3b0480d-8108-45c8-8a27-2a1a246bbca8",
   "metadata": {},
   "outputs": [],
   "source": [
    "# your code here"
   ]
  },
  {
   "cell_type": "markdown",
   "id": "e582d545-5b83-4d05-9b71-2a162d4ae920",
   "metadata": {
    "tags": []
   },
   "source": [
    "#### Задача 2. \n",
    "\n",
    "Добавим нашему токену функциональность: пусть при попытке обратиться к его атрибуту lemma, если таковой не существует, экземпляр класса автоматически вызывает лемматизатор (можно пользоваться pymorphy) и возвращает лемму. Если атрибут lemma уже есть, то достаточно вернуть его содержимое."
   ]
  },
  {
   "cell_type": "code",
   "execution_count": null,
   "id": "ce9c94ec-b46e-4ed9-ae24-57aadc42f3a3",
   "metadata": {},
   "outputs": [],
   "source": [
    "# your code here"
   ]
  },
  {
   "cell_type": "markdown",
   "id": "63c9bf48-1db1-4309-b1b9-93733f10e9a4",
   "metadata": {},
   "source": [
    "#### Задача 3. \n",
    "\n",
    "Перепишем задачу 2 с полноценным дескриптором Lemmatize."
   ]
  },
  {
   "cell_type": "code",
   "execution_count": null,
   "id": "dfb9dc5d-2a6b-4d84-a12d-5a461bd6ad13",
   "metadata": {},
   "outputs": [],
   "source": [
    "# your code here"
   ]
  },
  {
   "cell_type": "markdown",
   "id": "21203f86-cea8-4da0-8f0e-eac0abf0f5ec",
   "metadata": {},
   "source": [
    "#### Задача 4. \n",
    "\n",
    "Напишите класс \"пациент\", у которого есть устанавливаемые атрибуты \"диагноз\" и \"температура\". Атрибут \"температура\" должен устанавливаться таким образом, чтобы пользователь не мог установить нереалистичное значение типа 15, даже используя синтаксис Patient.temperature = 15. "
   ]
  },
  {
   "cell_type": "code",
   "execution_count": 18,
   "id": "0dabfdab-fe9e-4f5e-b188-203792008ddf",
   "metadata": {},
   "outputs": [],
   "source": [
    "class Patient:\n",
    "    def __init__(self, name):\n",
    "        self.name = name\n",
    "        self.__diagnosis = ''\n",
    "        self.__temperature = 36.6\n",
    "        \n",
    "    def gettemp(self):\n",
    "        print('getting temperature')\n",
    "        return self.__temperature\n",
    "        \n",
    "    def settemp(self, temperature):\n",
    "        if (isinstance(temperature, float) or isinstance(temperature, int)) and 35 <= temperature <= 40:\n",
    "            self.__temperature = temperature\n",
    "        \n",
    "    \n",
    "    def deltemp(self):\n",
    "        print('deleting temperature')\n",
    "        del self.__temperature\n",
    "    temperature = property(gettemp, settemp, deltemp)\n",
    "\n",
    "    def getd(self):\n",
    "        print('getting diagnosis')\n",
    "        return self.__diagnosis\n",
    "        \n",
    "    def setd(self, diagnosis):\n",
    "        if \"\".join(diagnosis.split()).isalpha():\n",
    "            self.__diagnosis = diagnosis\n",
    "    \n",
    "    def deld(self):\n",
    "        print('deleting diagnosis')\n",
    "        del self.__diagnosis\n",
    "    diagnosis = property(getd, setd, deld)"
   ]
  },
  {
   "cell_type": "code",
   "execution_count": 25,
   "id": "10468801",
   "metadata": {},
   "outputs": [],
   "source": [
    "p = Patient('Petr Hromoj')"
   ]
  },
  {
   "cell_type": "code",
   "execution_count": 26,
   "id": "f89c10fd",
   "metadata": {},
   "outputs": [],
   "source": [
    "p.temperature = 43"
   ]
  },
  {
   "cell_type": "code",
   "execution_count": 27,
   "id": "71cb9723",
   "metadata": {},
   "outputs": [
    {
     "name": "stdout",
     "output_type": "stream",
     "text": [
      "getting temperature\n"
     ]
    },
    {
     "data": {
      "text/plain": [
       "36.6"
      ]
     },
     "execution_count": 27,
     "metadata": {},
     "output_type": "execute_result"
    }
   ],
   "source": [
    "p.temperature"
   ]
  },
  {
   "cell_type": "code",
   "execution_count": 28,
   "id": "9e366086",
   "metadata": {},
   "outputs": [
    {
     "name": "stdout",
     "output_type": "stream",
     "text": [
      "getting diagnosis\n"
     ]
    },
    {
     "data": {
      "text/plain": [
       "''"
      ]
     },
     "execution_count": 28,
     "metadata": {},
     "output_type": "execute_result"
    }
   ],
   "source": [
    "p.diagnosis"
   ]
  },
  {
   "cell_type": "code",
   "execution_count": 33,
   "id": "0064ecb7",
   "metadata": {},
   "outputs": [],
   "source": [
    "p.diagnosis = 'diarrhea'"
   ]
  },
  {
   "cell_type": "code",
   "execution_count": 34,
   "id": "f52c5170",
   "metadata": {},
   "outputs": [
    {
     "name": "stdout",
     "output_type": "stream",
     "text": [
      "getting diagnosis\n"
     ]
    },
    {
     "data": {
      "text/plain": [
       "'diarrhea'"
      ]
     },
     "execution_count": 34,
     "metadata": {},
     "output_type": "execute_result"
    }
   ],
   "source": [
    "p.diagnosis"
   ]
  },
  {
   "cell_type": "markdown",
   "id": "4491d252-8d9d-4e1c-9233-d4dc707864b1",
   "metadata": {},
   "source": [
    "#### Задача 5. \n",
    "\n",
    "Вернемся к нашему классу Token (первому) и добавим ему метод для подсчета количества созданных токенов. Реализуйте два варианта: через статические методы и методы класса. "
   ]
  },
  {
   "cell_type": "code",
   "execution_count": null,
   "id": "9f371e58-0ef6-4218-b229-3a07c9009abe",
   "metadata": {
    "tags": []
   },
   "outputs": [],
   "source": [
    "# your code here"
   ]
  }
 ],
 "metadata": {
  "kernelspec": {
   "display_name": "Python 3",
   "language": "python",
   "name": "python3"
  },
  "language_info": {
   "codemirror_mode": {
    "name": "ipython",
    "version": 3
   },
   "file_extension": ".py",
   "mimetype": "text/x-python",
   "name": "python",
   "nbconvert_exporter": "python",
   "pygments_lexer": "ipython3",
   "version": "3.10.11"
  }
 },
 "nbformat": 4,
 "nbformat_minor": 5
}
