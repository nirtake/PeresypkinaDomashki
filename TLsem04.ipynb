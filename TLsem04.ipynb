{
 "cells": [
  {
   "cell_type": "markdown",
   "metadata": {
    "id": "c_NfnVDRo1Eh"
   },
   "source": [
    "#### Задача 1. \n",
    "\n",
    "Пользователь вводит что-то с клавиатуры в цикле, предположительно, целые числа. Программа должна возвращать квадраты этих чисел, а если пользователь ввел что-то кроме числа, прекратить работу с сообщением об этом."
   ]
  },
  {
   "cell_type": "code",
   "execution_count": 2,
   "metadata": {
    "executionInfo": {
     "elapsed": 5,
     "status": "ok",
     "timestamp": 1666089420889,
     "user": {
      "displayName": "Alexandra Ivoylova",
      "userId": "06069991353189522669"
     },
     "user_tz": -180
    },
    "id": "Epk1LkDZoqo1"
   },
   "outputs": [
    {
     "name": "stdout",
     "output_type": "stream",
     "text": [
      "9\n",
      "16\n",
      "6086089\n",
      "Выввели не число, цикл завершился\n"
     ]
    }
   ],
   "source": [
    "i = input()\n",
    "while i.isdigit():\n",
    "    print(int(i) ** 2)\n",
    "    i = input()\n",
    "print('Выввели не целое число, цикл завершился')\n"
   ]
  },
  {
   "cell_type": "markdown",
   "metadata": {
    "id": "8YEJc-Zlo5AA"
   },
   "source": [
    "#### Задача 2. \n",
    "\n",
    "Нужно вывести таблицу умножения: на первой строчке выводятся 1 2 3 4 5 6 7 8 9, на второй 2 4 6 8 ... и так далее."
   ]
  },
  {
   "cell_type": "code",
   "execution_count": 24,
   "metadata": {
    "executionInfo": {
     "elapsed": 6,
     "status": "ok",
     "timestamp": 1666089420890,
     "user": {
      "displayName": "Alexandra Ivoylova",
      "userId": "06069991353189522669"
     },
     "user_tz": -180
    },
    "id": "QLyUPKPBo9xa"
   },
   "outputs": [
    {
     "name": "stdout",
     "output_type": "stream",
     "text": [
      "1\t2\t3\t4\t5\t6\t7\t8\t9\t\n",
      "2\t4\t6\t8\t10\t12\t14\t16\t18\t\n",
      "3\t6\t9\t12\t15\t18\t21\t24\t27\t\n",
      "4\t8\t12\t16\t20\t24\t28\t32\t36\t\n",
      "5\t10\t15\t20\t25\t30\t35\t40\t45\t\n",
      "6\t12\t18\t24\t30\t36\t42\t48\t54\t\n",
      "7\t14\t21\t28\t35\t42\t49\t56\t63\t\n",
      "8\t16\t24\t32\t40\t48\t56\t64\t72\t\n",
      "9\t18\t27\t36\t45\t54\t63\t72\t81\t\n"
     ]
    }
   ],
   "source": [
    "for i in range(1, 10):\n",
    "    for j in range(1, 10):\n",
    "        print(i*j, end='\\t')\n",
    "    print()"
   ]
  },
  {
   "cell_type": "markdown",
   "metadata": {
    "id": "RMS_LRTfo-Cp"
   },
   "source": [
    "#### Задача 3. \n",
    "\n",
    "Пользователь вводит какие-то строки, которые наша программа должна приводить в \"заголовочный\" вид: все слова в строке с заглавной буквы. Когда пользователь вводит \"стоп\", программа должна завершить работу, причем ей неважно, в каком регистре введен \"стоп\", хоть заборчиком."
   ]
  },
  {
   "cell_type": "code",
   "execution_count": 3,
   "metadata": {
    "executionInfo": {
     "elapsed": 5,
     "status": "ok",
     "timestamp": 1666089420890,
     "user": {
      "displayName": "Alexandra Ivoylova",
      "userId": "06069991353189522669"
     },
     "user_tz": -180
    },
    "id": "-2SsbQLHpB5R"
   },
   "outputs": [
    {
     "name": "stdout",
     "output_type": "stream",
     "text": [
      "Рвс Ыври Выдмф\n",
      "Islfb Sdvjn Sdvjn\n",
      "Ösdj Sdhb Å\n",
      "Цикл завершен\n"
     ]
    }
   ],
   "source": [
    "i = input()\n",
    "while i.lower() != 'stop':\n",
    "    print(i.title())\n",
    "    i = input()\n",
    "print('Цикл завершен')"
   ]
  },
  {
   "cell_type": "markdown",
   "metadata": {
    "id": "m1CsBiJJpCZA"
   },
   "source": [
    "#### Задача 4. \n",
    "\n",
    "Соберем, кстати, заборчик: пользователь вводит какое-то слово маленькими буквами, а мы должны его собрать таким образом, чтобы каждая вторая буква была заглавной."
   ]
  },
  {
   "cell_type": "code",
   "execution_count": 25,
   "metadata": {
    "id": "mRRJ0emqpHZo"
   },
   "outputs": [
    {
     "name": "stdout",
     "output_type": "stream",
     "text": [
      "ПаПа\n"
     ]
    }
   ],
   "source": [
    "s = input()\n",
    "for i in range(0, len(s)):\n",
    "    if i % 2 == 0:\n",
    "      s = s.replace(s[i], s[i].upper())\n",
    "    else:\n",
    "        continue\n",
    "print(s)\n",
    "\n",
    "#она почему-то работает не каждый раз, и я не понимаю, как это исправить(\n",
    "\n",
    "    \n",
    "\n",
    "\n",
    "\n",
    "\n"
   ]
  },
  {
   "cell_type": "markdown",
   "metadata": {
    "id": "0J7bTu8wpL4x"
   },
   "source": [
    "#### Задача 5. \n",
    "\n",
    "Пользователь вводит предложение, в котором есть лишние (двойные, тройные) пробелы. Удалите все лишние пробелы."
   ]
  },
  {
   "cell_type": "code",
   "execution_count": null,
   "metadata": {
    "id": "8ecnu-k8pf__"
   },
   "outputs": [],
   "source": [
    "s = input()\n",
    "i = 0\n",
    "while i < len(s):\n",
    "    if i >= len(s) - 1 and s[i] == ' ' and s[i + 1] == ' ':\n",
    "        s = s.replace(s[i:i+1], s[i])\n",
    "        i += 1\n",
    "    else:\n",
    "        continue\n",
    "print(s)\n"
   ]
  },
  {
   "cell_type": "markdown",
   "metadata": {
    "id": "SsJVPHkwpgHg"
   },
   "source": [
    "#### Задача 6. \n",
    "\n",
    "Напишем программу для проверки подобранных рифм: пользователь в цикле вводит два слова, программа должна проверить, что у них совпадает не меньше четырех последних букв (будем наивно считать, что все читается, как пишется). Цикл останавливается, если первое из введенных слов не содержит букв."
   ]
  },
  {
   "cell_type": "code",
   "execution_count": 6,
   "metadata": {
    "id": "2-_tXhB8pjZf"
   },
   "outputs": [
    {
     "name": "stdout",
     "output_type": "stream",
     "text": [
      "Вы поэт!\n",
      "До Пушкина далеко\n"
     ]
    }
   ],
   "source": [
    "while r1.isalpha():\n",
    "  r1 = input('Введите первое слово ')\n",
    "  r2 = input('Введите второе слово ')\n",
    "  if r1[-4:] == r2[-4:]:\n",
    "    print(\"Вы поэт!\")\n",
    "  else:\n",
    "      print(\"До Пушкина далеко...\") \n",
    "print('Вы ввели не слово')"
   ]
  }
 ],
 "metadata": {
  "colab": {
   "authorship_tag": "ABX9TyMf460K+fWf9O4Z5QUvTOib",
   "collapsed_sections": [],
   "provenance": []
  },
  "kernelspec": {
   "display_name": "Python 3 (ipykernel)",
   "language": "python",
   "name": "python3"
  },
  "language_info": {
   "codemirror_mode": {
    "name": "ipython",
    "version": 3
   },
   "file_extension": ".py",
   "mimetype": "text/x-python",
   "name": "python",
   "nbconvert_exporter": "python",
   "pygments_lexer": "ipython3",
   "version": "3.10.11"
  }
 },
 "nbformat": 4,
 "nbformat_minor": 4
}
