{
 "cells": [
  {
   "cell_type": "markdown",
   "id": "c6626c3b-57c9-4f70-8590-86e969a165db",
   "metadata": {},
   "source": [
    "#### Задача 1. \n",
    "\n",
    "Перепишите один из наших предыдущих классов (лингвиста, компьютерного лингвиста или программиста) таким образом, чтобы у него были два атрибута, управляемых дескриптором: зарплата и количество рабочих часов в неделю. Дескриптор должен не давать устанавливать зарплату меньше какого-то значения (можно поругаться), а количество рабочих часов - больше положенного. "
   ]
  },
  {
   "cell_type": "code",
   "execution_count": 88,
   "id": "bdb0d45c",
   "metadata": {},
   "outputs": [],
   "source": [
    "# class DescriptorCoef:\n",
    "#   def __init__(self):\n",
    "#     self.coef = 0\n",
    "  \n",
    "#   def __get__(self, instance, owner=None):\n",
    "#      value = instance.__dict__.get('coef', self.coef)\n",
    "#      return value\n",
    "  \n",
    "#   def __set__(self, instance, value):\n",
    "#     if (350 * value) >= 500:\n",
    "#        if value >= self.coef: #понижать зарплаты мы, конечно же, не будем\n",
    "#          instance.__dict__['coef'] = value\n",
    "#        else:\n",
    "#          print('Куда еще меньше...')\n",
    "#     else:\n",
    "#        print('Имейте совесть, человеку нужно кушать.')\n",
    "\n",
    "#   def __delete__(self, instance):\n",
    "#     print(f'__delete__(instance={instance})')\n",
    "#     del instance.__dict__['coef'] \n",
    "\n",
    "\n",
    "# class DescriptorHours:\n",
    "#   def __init__(self):\n",
    "#     self.hours = 0\n",
    "#   def __get__(self, instance):\n",
    "#     return instance.__dict__.get(self.hours)\n",
    "  \n",
    "#   def __set__(self, instance, value):\n",
    "#     if (value * 5) <= 40:\n",
    "#       instance.__dict__[self.coef] = value\n",
    "#     elif 40 < (value * 5) <= 50:\n",
    "#       instance.__dict__[self.hours] = value\n",
    "#       instance.__dict__[self.coef] *= 2\n",
    "#       print('Переработки за доп. плату.')\n",
    "#     else:\n",
    "#       print('Пожалейте бедолагу')\n",
    "  \n",
    "#   def __delete__(self, instance):\n",
    "#     print(f'__delete__(instance={instance})')\n",
    "#     del instance.__dict__[self.hours]"
   ]
  },
  {
   "cell_type": "code",
   "execution_count": 119,
   "id": "9544e6e4",
   "metadata": {},
   "outputs": [],
   "source": [
    "class DescriptorCoef:\n",
    "    def __init__(self):\n",
    "        self.coef = 0\n",
    "\n",
    "    def __get__(self, instance, owner=None):\n",
    "        value = instance.__dict__.get('coef', self.coef) #у меня возникли проблемы с обращением к аттрибуту: при \"return instance.__dict__.get(self.coef)\" не возвращалось ничего\n",
    "        return value\n",
    "\n",
    "    def __set__(self, instance, value):\n",
    "        if (350 * value) >= 500:\n",
    "            if value >= self.coef:  # Понижать зарплаты мы, конечно же, не будем\n",
    "                instance.__dict__['coef'] = value #опять же, с self.coef не работало обращение к аттрибуту\n",
    "            else:\n",
    "                print('Куда еще меньше...')\n",
    "        else:\n",
    "            print('Имейте совесть, человеку нужно кушать.')\n",
    "\n",
    "    def __delete__(self, instance):\n",
    "        print(f'__delete__(instance={instance})')\n",
    "        del instance.__dict__['coef'] \n",
    "\n",
    "\n",
    "class DescriptorHours:\n",
    "    def __init__(self):\n",
    "        self.hours = 0\n",
    "\n",
    "    def __get__(self, instance, owner=None):\n",
    "        return instance.__dict__.get('daily_hours', self.hours)\n",
    "\n",
    "    def __set__(self, instance, value):\n",
    "        if (value * 5) <= 40:\n",
    "            instance.__dict__['daily_hours'] = value\n",
    "        elif 40 < (value * 5) <= 50:\n",
    "            instance.__dict__['daily_hours'] = value\n",
    "            instance.__dict__['coef'] *= 2  \n",
    "            print('Переработки за доп. плату.')\n",
    "        else:\n",
    "            print('Пожалейте бедолагу')\n",
    "\n",
    "    def __delete__(self, instance):\n",
    "        print(f'__delete__(instance={instance})')\n",
    "        del instance.__dict__['daily_hours']\n"
   ]
  },
  {
   "cell_type": "code",
   "execution_count": 2,
   "id": "c1378f79-6479-4e7d-ba5f-9d84d3f58937",
   "metadata": {},
   "outputs": [],
   "source": [
    "class Employee:\n",
    "  def __init__(self, name, surname):\n",
    "    self.name = name\n",
    "    self.surname = surname\n",
    "    self.__salary = 350  # _Employee__salary\n",
    "    self.bankaccount = 0\n",
    "\n",
    "\n",
    "class Linguist(Employee):\n",
    "  coef = DescriptorCoef() \n",
    "  daily_hours = DescriptorHours()\n",
    "  def __init__(self, name, surname):\n",
    "    super().__init__(name, surname)\n",
    "    self.read_papers = []\n",
    "    #self.salary = self._Employee__salary * self.coef оно ругалось, т.к. коэффициент для зп добвляется после создания экземпляра\n",
    "    self.publications = []\n",
    "    \n",
    "  def __repr__(self):\n",
    "    return f\"Linguist {self.name} {self.surname}\"\n",
    "    \n",
    "  def work(self, paper, hours):\n",
    "      print('Working...')\n",
    "      self.bankaccount += self.salary * hours\n",
    "      self.publications.append(paper)\n",
    "      print(f'{self.name} {self.surname} has published a paper {paper} in Voprosy Yazykoznaniya')\n",
    " \n",
    "\n",
    "  def readlingpapers(self, lingpaper):\n",
    "    print('Reading...')\n",
    "    self.read_papers.append(lingpaper)\n",
    "    print(f'{self.name} {self.surname} has read {lingpaper}')\n",
    "\n",
    "  def show_publications(self):\n",
    "    print(f\"Here is {self.name} {self.surname}'s publications list:\")\n",
    "    for p in self.publications:\n",
    "      print(p)\n",
    "\n",
    "  def count_salary(self):\n",
    "    self.salary = self._Employee__salary * self.coef\n",
    "    return self.salary\n",
    "\n"
   ]
  },
  {
   "cell_type": "code",
   "execution_count": 121,
   "id": "70d95bfc",
   "metadata": {},
   "outputs": [],
   "source": [
    "l = Linguist('K', 'F')"
   ]
  },
  {
   "cell_type": "code",
   "execution_count": 122,
   "id": "611d3b48",
   "metadata": {},
   "outputs": [],
   "source": [
    "l.daily_hours = 2"
   ]
  },
  {
   "cell_type": "code",
   "execution_count": 123,
   "id": "32e77f56",
   "metadata": {},
   "outputs": [
    {
     "data": {
      "text/plain": [
       "2"
      ]
     },
     "execution_count": 123,
     "metadata": {},
     "output_type": "execute_result"
    }
   ],
   "source": [
    "l.daily_hours"
   ]
  },
  {
   "cell_type": "code",
   "execution_count": 124,
   "id": "d224670d",
   "metadata": {},
   "outputs": [
    {
     "name": "stdout",
     "output_type": "stream",
     "text": [
      "Пожалейте бедолагу\n"
     ]
    }
   ],
   "source": [
    "l.daily_hours = 100"
   ]
  },
  {
   "cell_type": "code",
   "execution_count": 125,
   "id": "b3ef6146",
   "metadata": {},
   "outputs": [
    {
     "name": "stdout",
     "output_type": "stream",
     "text": [
      "Имейте совесть, человеку нужно кушать.\n"
     ]
    }
   ],
   "source": [
    "l.coef = 1"
   ]
  },
  {
   "cell_type": "code",
   "execution_count": 126,
   "id": "98405caf",
   "metadata": {},
   "outputs": [],
   "source": [
    "l.coef = 3"
   ]
  },
  {
   "cell_type": "code",
   "execution_count": 127,
   "id": "42e3c570",
   "metadata": {},
   "outputs": [
    {
     "data": {
      "text/plain": [
       "1050"
      ]
     },
     "execution_count": 127,
     "metadata": {},
     "output_type": "execute_result"
    }
   ],
   "source": [
    "l.count_salary()\n",
    "l.salary"
   ]
  },
  {
   "cell_type": "markdown",
   "id": "f79de710-5452-4884-8962-c571c9e5de60",
   "metadata": {},
   "source": [
    "#### Задача 2. \n",
    "\n",
    "Напишите скрипт, который будет пытаться открыть файл и считать из него текст. Отлавливаться должна ошибка UnicodeDecodeError. Файл обязательно должен закрываться. (То есть, нужно его открыть, попробовать с него что-нибудь прочитать, если получилось - что-нибудь сделать с прочитанным, и в любом случае файл закрыть). "
   ]
  },
  {
   "cell_type": "code",
   "execution_count": 129,
   "id": "811ee58e-8593-435b-aef9-d3ecc424edf3",
   "metadata": {},
   "outputs": [
    {
     "name": "stdout",
     "output_type": "stream",
     "text": [
      "Ошибка кодировки\n"
     ]
    }
   ],
   "source": [
    "try:\n",
    "    with open(r\"D:\\\\converted_txt.txt\", 'r') as file:  #with должен сам закрывать файл\n",
    "        print(file.read(10))  \n",
    "except UnicodeDecodeError:\n",
    "    print('Ошибка кодировки')\n",
    "\n"
   ]
  },
  {
   "cell_type": "markdown",
   "id": "4e783495-f91f-458e-9723-1ed83b90beeb",
   "metadata": {},
   "source": [
    "#### Задача 3. \n",
    "\n",
    "Перепишите задачу 1 таким образом, чтобы при попытке установить нелегальное значение атрибута возникало исключение ValueError с вашим текстом об ошибке. "
   ]
  },
  {
   "cell_type": "code",
   "execution_count": 131,
   "id": "e8bbc4e9-4b7c-44d9-9325-ae3d8ee4e994",
   "metadata": {},
   "outputs": [],
   "source": [
    "class DescriptorCoef:\n",
    "    def __init__(self):\n",
    "        self.coef = 0\n",
    "\n",
    "    def __get__(self, instance, owner=None):\n",
    "        value = instance.__dict__.get('coef', self.coef) \n",
    "\n",
    "    def __set__(self, instance, value):\n",
    "        if (350 * value) >= 500:\n",
    "            if value >= self.coef:  \n",
    "                instance.__dict__['coef'] = value \n",
    "            else:\n",
    "                raise ValueError('Куда еще меньше...')\n",
    "        else:\n",
    "            raise ValueError('Имейте совесть, человеку нужно кушать.')\n",
    "\n",
    "    def __delete__(self, instance):\n",
    "        print(f'__delete__(instance={instance})')\n",
    "        del instance.__dict__['coef'] \n",
    "\n",
    "\n",
    "class DescriptorHours:\n",
    "    def __init__(self):\n",
    "        self.hours = 0\n",
    "\n",
    "    def __get__(self, instance, owner=None):\n",
    "        return instance.__dict__.get('daily_hours', self.hours)\n",
    "\n",
    "    def __set__(self, instance, value):\n",
    "        if (value * 5) <= 40:\n",
    "            instance.__dict__['daily_hours'] = value\n",
    "        elif 40 < (value * 5) <= 50:\n",
    "            instance.__dict__['daily_hours'] = value\n",
    "            instance.__dict__['coef'] *= 2  \n",
    "            raise ValueError('Переработки за доп. плату.')\n",
    "        else:\n",
    "            raise ValueError('Пожалейте бедолагу')\n",
    "\n",
    "    def __delete__(self, instance):\n",
    "        print(f'__delete__(instance={instance})')\n",
    "        del instance.__dict__['daily_hours']\n"
   ]
  },
  {
   "cell_type": "code",
   "execution_count": 133,
   "id": "4dbc8017",
   "metadata": {},
   "outputs": [
    {
     "ename": "ValueError",
     "evalue": "Имейте совесть, человеку нужно кушать.",
     "output_type": "error",
     "traceback": [
      "\u001b[1;31m---------------------------------------------------------------------------\u001b[0m",
      "\u001b[1;31mValueError\u001b[0m                                Traceback (most recent call last)",
      "Cell \u001b[1;32mIn[133], line 2\u001b[0m\n\u001b[0;32m      1\u001b[0m s \u001b[38;5;241m=\u001b[39m Linguist(\u001b[38;5;124m'\u001b[39m\u001b[38;5;124mx\u001b[39m\u001b[38;5;124m'\u001b[39m, \u001b[38;5;124m'\u001b[39m\u001b[38;5;124md\u001b[39m\u001b[38;5;124m'\u001b[39m)\n\u001b[1;32m----> 2\u001b[0m \u001b[43ms\u001b[49m\u001b[38;5;241;43m.\u001b[39;49m\u001b[43mcoef\u001b[49m \u001b[38;5;241m=\u001b[39m \u001b[38;5;241m1\u001b[39m\n",
      "Cell \u001b[1;32mIn[131], line 15\u001b[0m, in \u001b[0;36mDescriptorCoef.__set__\u001b[1;34m(self, instance, value)\u001b[0m\n\u001b[0;32m     13\u001b[0m         \u001b[38;5;28;01mraise\u001b[39;00m \u001b[38;5;167;01mValueError\u001b[39;00m(\u001b[38;5;124m'\u001b[39m\u001b[38;5;124mКуда еще меньше...\u001b[39m\u001b[38;5;124m'\u001b[39m)\n\u001b[0;32m     14\u001b[0m \u001b[38;5;28;01melse\u001b[39;00m:\n\u001b[1;32m---> 15\u001b[0m     \u001b[38;5;28;01mraise\u001b[39;00m \u001b[38;5;167;01mValueError\u001b[39;00m(\u001b[38;5;124m'\u001b[39m\u001b[38;5;124mИмейте совесть, человеку нужно кушать.\u001b[39m\u001b[38;5;124m'\u001b[39m)\n",
      "\u001b[1;31mValueError\u001b[0m: Имейте совесть, человеку нужно кушать."
     ]
    }
   ],
   "source": [
    "s = Linguist('x', 'd')\n",
    "s.coef = 1"
   ]
  },
  {
   "cell_type": "markdown",
   "id": "21b6624b-2f75-4a85-a02d-eefdc83e14e5",
   "metadata": {},
   "source": [
    "#### Задача 4. \n",
    "\n",
    "Добавьте к третьей задаче код, который будет перехватывать ваше исключение и требовать ввести правильное значение (в цикле, например). "
   ]
  },
  {
   "cell_type": "code",
   "execution_count": 1,
   "id": "5db03043-480c-4905-b3ce-7515b93d419a",
   "metadata": {},
   "outputs": [],
   "source": [
    "class DescriptorCoef:\n",
    "    def __init__(self):\n",
    "        self.coef = 0\n",
    "\n",
    "    def __get__(self, instance, owner=None):\n",
    "        value = instance.__dict__.get('coef', self.coef) \n",
    "\n",
    "    def __set__(self, instance, value):\n",
    "        while True:\n",
    "            try:\n",
    "                if (350 * value) >= 500:\n",
    "                    if value >= self.coef:  \n",
    "                        instance.__dict__['coef'] = value \n",
    "                        break\n",
    "                    else:\n",
    "                        raise ValueError('Куда еще меньше...')\n",
    "                else:\n",
    "                    raise ValueError('Имейте совесть, человеку нужно кушать.')\n",
    "            except ValueError:\n",
    "                value = float(input('Введите большее значение'))\n",
    "                \n",
    "\n",
    "    def __delete__(self, instance):\n",
    "        print(f'__delete__(instance={instance})')\n",
    "        del instance.__dict__['coef'] \n",
    "\n",
    "\n"
   ]
  },
  {
   "cell_type": "code",
   "execution_count": 5,
   "id": "f66329e5",
   "metadata": {},
   "outputs": [],
   "source": [
    "d = Linguist('', '')"
   ]
  },
  {
   "cell_type": "code",
   "execution_count": 6,
   "id": "c80215b0",
   "metadata": {},
   "outputs": [],
   "source": [
    "d.coef = 1"
   ]
  }
 ],
 "metadata": {
  "kernelspec": {
   "display_name": "Python 3",
   "language": "python",
   "name": "python3"
  },
  "language_info": {
   "codemirror_mode": {
    "name": "ipython",
    "version": 3
   },
   "file_extension": ".py",
   "mimetype": "text/x-python",
   "name": "python",
   "nbconvert_exporter": "python",
   "pygments_lexer": "ipython3",
   "version": "3.10.11"
  }
 },
 "nbformat": 4,
 "nbformat_minor": 5
}
