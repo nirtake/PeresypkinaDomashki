{
 "cells": [
  {
   "cell_type": "markdown",
   "id": "74c3751c-2748-4f8b-b05f-bc22d21edde2",
   "metadata": {},
   "source": [
    "#### Задача 1. \n",
    "\n",
    "Для обработки текстовых документов формата .docx (Microsoft Word) существует библиотека python-docx. Установите ее, самостоятельно разберитесь в ее документации на сайте pypi.org и напишите скрипт, который будет принимать путь к файлу .docx, считывать оттуда текст, оставлять в тексте только слова без пунктуации и подсчитывать, сколько в документе было слов. За реализацию этого скрипта в классах +1 балл. "
   ]
  },
  {
   "cell_type": "code",
   "execution_count": 3,
   "id": "388b4df2",
   "metadata": {},
   "outputs": [
    {
     "name": "stdout",
     "output_type": "stream",
     "text": [
      "Кол-во слов в документе: 749\n"
     ]
    }
   ],
   "source": [
    "#доделала дома\n",
    "\n",
    "from docx import Document\n",
    "import re\n",
    "\n",
    "def count_words_in_doc(path):\n",
    "    doc = Document(f'{path}')\n",
    "    clean_doc = Document()\n",
    "    words_in_line = 0\n",
    "    for x in range (0, len(doc.paragraphs)):\n",
    "        clean_doc.add_paragraph(re.sub(r'[^\\w\\s]', '', doc.paragraphs[x].text))\n",
    "    \n",
    "    for x in range (0, len(clean_doc.paragraphs)):\n",
    "        words_in_line += len(re.findall(r'\\w+', clean_doc.paragraphs[x].text))\n",
    "    \n",
    "    return print(f'Кол-во слов в документе: {words_in_line}')\n",
    "\n",
    "\n",
    "count_words_in_doc(input('Введите путь к файлу'))\n",
    "\n",
    "\n",
    "\n",
    "\n",
    "\n",
    "\n",
    "\n",
    "\n",
    "    \n",
    "    "
   ]
  },
  {
   "cell_type": "markdown",
   "id": "afb24921-6a80-418f-bfe9-599f0e6ccdc0",
   "metadata": {},
   "source": [
    "#### Задача 2. \n",
    "\n",
    "Дополним нашу библиотеку для docx-файлов модулем pdfminer.six: это очень простой модуль, который умеет считывать pdf (но только если они оптически распознаны...). Установите его и напишите скрипт, который будет принимать файлы либо в docx, либо в pdf и пытаться конвертировать их в текстовые. Предусмотрите возможность того, что человек передал несуществующий путь к файлу или у файла оказалось не поддерживаемое расширение (например, jpg). "
   ]
  },
  {
   "cell_type": "code",
   "execution_count": 1,
   "id": "45629359",
   "metadata": {},
   "outputs": [
    {
     "name": "stdout",
     "output_type": "stream",
     "text": [
      "Файл успешно конвертирован\n"
     ]
    }
   ],
   "source": [
    "#доделала дома\n",
    "from pdfminer.high_level import extract_text\n",
    "\n",
    "def pdf_to_txt(path):\n",
    "    try:\n",
    "        text = extract_text(f'{path}.')\n",
    "        text_file = open('converted_pdf.txt', 'w', encoding='utf8')\n",
    "        print(text, file=text_file)\n",
    "        print('Файл успешно конвертирован')\n",
    "    except FileNotFoundError:\n",
    "        print('Файл не найден')\n",
    "    return text_file\n",
    "\n",
    "def docx_to_txt(path):\n",
    "    try:\n",
    "        doc = Document(f'{path}')\n",
    "        text_file = open('converted_doc.txt', 'w', encoding='utf8')\n",
    "        for x in range (0, len(doc.paragraphs)):\n",
    "            print(doc.paragraphs[x].text, file=text_file)\n",
    "        text_file.close()\n",
    "        print('Файл успешно конвертирован')\n",
    "        return text_file\n",
    "    except FileNotFoundError:\n",
    "        print('Файл не найден')\n",
    "    return text_file\n",
    "\n",
    "def file_to_txt(path):\n",
    "    if path.endswith('.docx'):\n",
    "        docx_to_txt(path)\n",
    "    elif path.endswith('.pdf'):\n",
    "        pdf_to_txt(path)\n",
    "    else:\n",
    "        print(\"Неверный формат файла\")\n",
    "    \n",
    "\n",
    "\n",
    "file_to_txt(input('Введите путь к файлу'))\n",
    "\n",
    "#мне кажется, я не все ошибки исключила, но когда я вставляла названия некоторых ошибок, программа не работала (например, 'PackageNotFoundError')\n"
   ]
  },
  {
   "cell_type": "markdown",
   "id": "3bb3c9d0-2de3-4bf5-9380-da7673bb8545",
   "metadata": {},
   "source": [
    "#### Задача 3. \n",
    "\n",
    "Для красивого цветного вывода (как для Colab, так и для py-скриптов) существует две библиотеки: colorama и termcolor. В Visual Studio Code и ipynb-тетрадках скорее будет работать termcolor, но может не сработать, правда; в py-скриптах скорее будет работать colorama. Попробуйте обе, разберитесь, как они работают, и дополните код для задачи 2 таким образом, чтобы вывод был цветным (ошибка красным, сообщение об удачной конвертации - зеленым). "
   ]
  },
  {
   "cell_type": "code",
   "execution_count": 4,
   "id": "6f72f3ce",
   "metadata": {},
   "outputs": [
    {
     "name": "stdout",
     "output_type": "stream",
     "text": [
      "\u001b[32mФайл успешно конвертирован\u001b[0m\n"
     ]
    }
   ],
   "source": [
    "#доделала дома\n",
    "from termcolor import colored\n",
    "\n",
    "def pdf_to_txt(path):\n",
    "    try:\n",
    "        text = extract_text(f'{path}.')\n",
    "        text_file = open('converted_pdf.txt', 'w', encoding='utf8')\n",
    "        print(text, file=text_file)\n",
    "        print(colored('Файл успешно конвертирован', 'green'))\n",
    "    except FileNotFoundError:\n",
    "        print(colored('Файл не найден', 'red'))\n",
    "    return text_file\n",
    "\n",
    "def docx_to_txt(path):\n",
    "    try:\n",
    "        doc = Document(f'{path}')\n",
    "        text_file = open('converted_txt.txt', 'w', encoding='utf8')\n",
    "        for x in range (0, len(doc.paragraphs)):\n",
    "            print(doc.paragraphs[x].text, file=text_file)\n",
    "        text_file.close()\n",
    "        print(colored('Файл успешно конвертирован', 'green'))\n",
    "        return text_file\n",
    "    except FileNotFoundError:\n",
    "        print(colored('Файл не найден', 'red'))\n",
    "    return text_file\n",
    "\n",
    "def file_to_txt(path):\n",
    "    if path.endswith('.docx'):\n",
    "        docx_to_txt(path)\n",
    "    elif path.endswith('.pdf'):\n",
    "        pdf_to_txt(path)\n",
    "    else:\n",
    "        print(colored('Неверный формат файла', 'red'))\n",
    "    \n",
    "\n",
    "\n",
    "file_to_txt(input('Введите путь к файлу'))\n",
    "\n",
    "\n"
   ]
  },
  {
   "cell_type": "markdown",
   "id": "57b3fd7b-bd97-4881-a84e-e260d9585d0e",
   "metadata": {},
   "source": [
    "#### Задача 4 (2 балла). \n",
    "\n",
    "Все, конечно, пользовались Google Translate? Для того, чтобы получать к нему доступ прямо из питона, есть библиотека googletrans. Правда, у нее есть некоторые проблемы... попробуйте с ними самостоятельно разобраться (погуглите способы решения: они точно есть, и в большом количестве). Напишите программу, которая будет принимать текст на каком-нибудь языке и переводить его на другой язык (с языками - какие хотите, главное, которые есть в GT)."
   ]
  },
  {
   "cell_type": "code",
   "execution_count": 1,
   "id": "1b741b73-ad3a-4750-a4e9-df27fb8c54d2",
   "metadata": {},
   "outputs": [],
   "source": [
    "#сделала в классе\n",
    "\n",
    "from googletrans import Translator"
   ]
  },
  {
   "cell_type": "code",
   "execution_count": 2,
   "id": "0107c14d",
   "metadata": {},
   "outputs": [],
   "source": [
    "translator = Translator()\n",
    "trans_text = translator.translate('Daniel ligger vaken i sängen i gästrummet. Han tänker på Lena, som sover i rummet bredvid. ', dest='ru')"
   ]
  },
  {
   "cell_type": "code",
   "execution_count": 3,
   "id": "dde0c5e2",
   "metadata": {},
   "outputs": [
    {
     "name": "stdout",
     "output_type": "stream",
     "text": [
      "Daniel ligger vaken i sängen i gästrummet. Han tänker på Lena, som sover i rummet bredvid.   ->  Даниэль проснулся в постели в гостевой комнате.Он думает о Лене, которая спит в комнате по соседству.\n"
     ]
    }
   ],
   "source": [
    "print(trans_text.origin, ' -> ', trans_text.text)"
   ]
  }
 ],
 "metadata": {
  "kernelspec": {
   "display_name": "Python 3 (ipykernel)",
   "language": "python",
   "name": "python3"
  },
  "language_info": {
   "codemirror_mode": {
    "name": "ipython",
    "version": 3
   },
   "file_extension": ".py",
   "mimetype": "text/x-python",
   "name": "python",
   "nbconvert_exporter": "python",
   "pygments_lexer": "ipython3",
   "version": "3.11.5"
  }
 },
 "nbformat": 4,
 "nbformat_minor": 5
}
