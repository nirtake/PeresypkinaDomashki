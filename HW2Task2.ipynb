{
 "cells": [
  {
   "cell_type": "markdown",
   "metadata": {},
   "source": [
    "#### Задача 2 (10 баллов). \n",
    "\n",
    "Некоторые предлоги в русском языке могут управлять разными падежами (например, \"я еду в Лондон\" vs \"я живу в Лондоне\"). Давайте проанализируем эти предлоги и их падежи. Необходимо:\n",
    "\n",
    "- составить список таких предлогов (РГ-80 вам в помощь)\n",
    "- взять достаточно большой текст (можно большое художественное произведение)\n",
    "- сделать морфоразбор этого текста\n",
    "- Посчитать, как часто и какие падежи встречаются у слова, идущего после предлога.\n",
    "\n",
    "Примечания: во-первых, имейте в виду, что иногда после предлога могут идти самые неожиданные вещи: \"я что, должен ехать на, черт побери, северный полюс?\". Во-вторых, неплохо бы учитывать отсутствие пунктуации (конечно, в норме, как нам кажется, предлог обязательно требует зависимое, но! \"да иди ты на!\") Эти штуки можно отсеять, если просто учитывать только заранее определенные падежи, а не считать все, какие встретились (так и None можно огрести). \n",
    "\n",
    "Если будете использовать RNNMorph, возможно, понадобится регулярное выражение и немного терпения. "
   ]
  },
  {
   "cell_type": "code",
   "execution_count": 1,
   "metadata": {},
   "outputs": [
    {
     "name": "stdout",
     "output_type": "stream",
     "text": [
      "с:\n",
      "{'Gen': 152, 'Ins': 665, 'Acc': 4}\n",
      "со:\n",
      "{'Gen': 33, 'Ins': 57, 'Acc': 1}\n",
      "по:\n",
      "{'Dat': 393, 'Loc': 8, 'Acc': 1}\n",
      "под:\n",
      "{'Ins': 72, 'Acc': 55}\n",
      "за:\n",
      "{'Ins': 106, 'Acc': 174}\n",
      "в:\n",
      "{'Loc': 1069, 'Acc': 809}\n",
      "во:\n",
      "{'Loc': 33, 'Acc': 26}\n",
      "на:\n",
      "{'Loc': 534, 'Acc': 689}\n",
      "между:\n",
      "{'Gen': 1, 'Ins': 15}\n",
      "о:\n",
      "{'Loc': 133, 'Acc': 19}\n",
      "об:\n",
      "{'Loc': 15, 'Acc': 4}\n"
     ]
    }
   ],
   "source": [
    "import spacy\n",
    "nlp = spacy.load(\"ru_core_news_sm\")\n",
    "import ru_core_news_sm\n",
    "nlp = ru_core_news_sm.load()\n",
    "import re\n",
    "\n",
    "\n",
    "with open(f'D:\\\\Ilf_I._Ostapbender1._Dvenadcat_Stulev.txt', 'r', encoding='utf-8') as f:\n",
    "    text = f.read()\n",
    "\n",
    "doc = nlp(text)\n",
    "\n",
    "\n",
    "PREP = {'с' : ['Gen', 'Ins', 'Acc'], 'со' : ['Gen', 'Ins', 'Acc'], 'по' : ['Dat', 'Loc', 'Acc'], 'под' : ['Ins', 'Acc'], 'за' : ['Ins', 'Acc'], 'в' : ['Loc', 'Acc'], 'во' : ['Loc', 'Acc'], 'на' : ['Loc', 'Acc'], 'между' : ['Gen', 'Ins'], 'о' : ['Loc', 'Acc'], 'об' : ['Loc', 'Acc']}\n",
    "\n",
    "\n",
    "for key, value in PREP.items():\n",
    "    Count = [0 for x in range(len(value))]\n",
    "    for token in doc:\n",
    "        if token.text == key and token.pos_ == 'ADP':\n",
    "            if token.head.pos_ == 'NOUN':\n",
    "                for elem in value:\n",
    "                    if re.match(f'.*(?<=Case=){elem}.*', str(token.head.morph)):\n",
    "                        Count[value.index(elem)] += 1\n",
    "                    else:\n",
    "                        continue\n",
    "                    CaseNumbers = dict(zip(value, Count))\n",
    "    print(f'{key}:\\n{CaseNumbers}')\n",
    "\n",
    "\n",
    "#Оно работает очень медленно, но я не придумала, как сделать без циклов.\n",
    "\n",
    "\n",
    "\n",
    "\n",
    "\n"
   ]
  }
 ],
 "metadata": {
  "kernelspec": {
   "display_name": "Python 3",
   "language": "python",
   "name": "python3"
  },
  "language_info": {
   "codemirror_mode": {
    "name": "ipython",
    "version": 3
   },
   "file_extension": ".py",
   "mimetype": "text/x-python",
   "name": "python",
   "nbconvert_exporter": "python",
   "pygments_lexer": "ipython3",
   "version": "3.11.5"
  }
 },
 "nbformat": 4,
 "nbformat_minor": 2
}
