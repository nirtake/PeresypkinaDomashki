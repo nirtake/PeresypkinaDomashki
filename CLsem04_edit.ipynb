{
 "cells": [
  {
   "cell_type": "markdown",
   "id": "012b6176-02b0-4183-8d8c-92adc4be4c5a",
   "metadata": {},
   "source": [
    "#### Задача 1. \n",
    "\n",
    "Даны четыре действительных числа: x1, y1, x2, y2. Напишите функцию distance(x1, y1, x2, y2), вычисляющая расстояние между точкой (x1, y1) и (x2, y2). Считайте четыре действительных числа и выведите результат работы этой функции."
   ]
  },
  {
   "cell_type": "code",
   "execution_count": 10,
   "id": "7f2ff57d-516a-409c-aee8-4dd64aeb5937",
   "metadata": {},
   "outputs": [
    {
     "data": {
      "text/plain": [
       "2.23606797749979"
      ]
     },
     "execution_count": 10,
     "metadata": {},
     "output_type": "execute_result"
    }
   ],
   "source": [
    "# your code here\n",
    "def distance(x1, y1, x2, y2):\n",
    "    d = ((x1 - x2) ** 2 + (y1 - y2) ** 2) ** 0.5\n",
    "    return d\n",
    "\n",
    "distance(x1=2, y1=7, x2=3, y2=5)"
   ]
  },
  {
   "cell_type": "markdown",
   "id": "870aa7b6-0198-44f8-8d29-6a6b5690288c",
   "metadata": {},
   "source": [
    "#### Задача 2. \n",
    "\n",
    "Дана последовательность целых чисел, заканчивающаяся числом 0. Выведите эту последовательность в обратном порядке.\n",
    "При решении этой задачи нельзя пользоваться массивами и прочими динамическими структурами данных. Рекурсия вам поможет."
   ]
  },
  {
   "cell_type": "code",
   "execution_count": null,
   "id": "b8fbf8ed-5d1d-4c7d-914c-25194e142c45",
   "metadata": {},
   "outputs": [],
   "source": [
    "# your code here"
   ]
  },
  {
   "cell_type": "markdown",
   "id": "a2bdf0da-7671-4835-b037-aa3db0c86e1b",
   "metadata": {},
   "source": [
    "#### Задача 3. \n",
    "\n",
    "Напишите генераторную функцию, которая будет принимать строку с каким-нибудь длинным предложением и возвращать по одному слову из этого предложения в верхнем регистре. "
   ]
  },
  {
   "cell_type": "code",
   "execution_count": 63,
   "id": "47980b5b-6c31-4dfa-96b1-57d230bb42e3",
   "metadata": {},
   "outputs": [
    {
     "data": {
      "text/plain": [
       "'Карл'"
      ]
     },
     "execution_count": 63,
     "metadata": {},
     "output_type": "execute_result"
    }
   ],
   "source": [
    "# your code here\n",
    "def pup(p):\n",
    "    g = (p.split()[i].capitalize() for i in range(len(p.split())))\n",
    "    return g\n",
    "\n",
    "# for wlwm in pup('карл у клары'):\n",
    "#     print(wlwm)\n",
    "\n",
    "next(pup('карл у клары'))  "
   ]
  },
  {
   "cell_type": "markdown",
   "id": "a51551eb-1d88-4d2a-a7a1-1e14dc713882",
   "metadata": {},
   "source": [
    "#### Задача 4 (\\*). \n",
    "\n",
    "Дан список кортежей, в каждом из которых по два элемента (можно считать его с клавиатуры в цикле while, вводя кортежи парами через пробел). Превратите его в два кортежа, чтобы в первом были только элементы с нулевым индексом, а во втором - с первым. То есть:\n",
    "\n",
    "    [(1, 'a'), (2, 'b')] \n",
    "    должно превратиться в \n",
    "    (1, 2), ('a', 'b')\n",
    "\n",
    "Цикл можно использовать только для считывания с клавиатуры исходного списка. "
   ]
  },
  {
   "cell_type": "code",
   "execution_count": null,
   "id": "92077563-d5e7-4de2-b147-31a15126cb04",
   "metadata": {},
   "outputs": [],
   "source": [
    "# your code here"
   ]
  },
  {
   "cell_type": "markdown",
   "id": "57542689-78e6-4282-b831-722e81a53b8b",
   "metadata": {},
   "source": [
    "#### Задача 5. \n",
    "\n",
    "Дан список слов (можно считать его через одну строку с помощью split()). Без циклов верните список, состоящий из длин этих слов. "
   ]
  },
  {
   "cell_type": "code",
   "execution_count": null,
   "id": "bca626a6-7644-49f5-83e6-cdbb882aeffa",
   "metadata": {},
   "outputs": [],
   "source": [
    "# your code here"
   ]
  },
  {
   "cell_type": "markdown",
   "id": "7dbaf89c-2f9c-49b2-ab54-9149c5452565",
   "metadata": {},
   "source": [
    "#### Задача 6. \n",
    "\n",
    "Соберите множество всех кириллических букв любым способом (либо с использованием функций ord() и char(), либо с использованием строк). "
   ]
  },
  {
   "cell_type": "code",
   "execution_count": null,
   "id": "bb4a40ea-e105-4d0c-b28a-cb0ad1434dca",
   "metadata": {},
   "outputs": [],
   "source": [
    "# your code here"
   ]
  },
  {
   "cell_type": "markdown",
   "id": "f58c1d07-8c62-49ac-ae2b-bc3ba1fd70bf",
   "metadata": {},
   "source": [
    "#### Задача 7. \n",
    "\n",
    "Воспользуйтесь собранным множеством букв из задачи 2 и напишите функцию, которая будет проверять строку на то, является ли она кириллическим словом. Отфильтруйте список, состоящий из слов, с помощью этой функции таким образом, чтобы остались только кириллические слова. "
   ]
  },
  {
   "cell_type": "code",
   "execution_count": null,
   "id": "aa727129-530d-4ef6-b3c2-eb81298c928d",
   "metadata": {},
   "outputs": [],
   "source": [
    "# your code here"
   ]
  },
  {
   "cell_type": "markdown",
   "id": "1ba73d33-e4bd-498f-9866-66bbb068d324",
   "metadata": {},
   "source": [
    "#### Задача 8. \n",
    "\n",
    "Даны два списка чисел. Найдите все числа, которые входят как в первый, так и во второй список, и выведите их в порядке возрастания."
   ]
  },
  {
   "cell_type": "code",
   "execution_count": null,
   "id": "86aa879c-1d08-4f46-9413-6905c03157ff",
   "metadata": {},
   "outputs": [],
   "source": [
    "# your code here"
   ]
  },
  {
   "cell_type": "markdown",
   "id": "f60e2401-7d51-49fb-bb28-8a231f5c6987",
   "metadata": {},
   "source": [
    "#### Задача 9. \n",
    "\n",
    "Напишите функцию lexdiv(), которая считает лексическое разнообразие в тексте. Лексическое разноообразие - это количество уникальных слов, поделенное на количество всех слов в тексте. Посчитайте лексическое разнообразие для любого англоязычного и русскоязычного текста примерно одинаковой длины.\n",
    "\n",
    "Текст можно задать прямо в коде с помощью тройных кавычек. "
   ]
  },
  {
   "cell_type": "code",
   "execution_count": null,
   "id": "f5b7a998-d3fd-4f2d-910e-9d4165d01f98",
   "metadata": {},
   "outputs": [],
   "source": [
    "# your code here"
   ]
  },
  {
   "cell_type": "markdown",
   "id": "778ba4ca-34cc-40bb-98a4-8c4168b0d02e",
   "metadata": {},
   "source": [
    "#### Задача 10. \n",
    "\n",
    "Напишите функцию printmatrix(), которая будет красиво выводить матрицу в печать. "
   ]
  },
  {
   "cell_type": "code",
   "execution_count": null,
   "id": "9287bd95-72b6-4b39-9dd7-d21179d8fd87",
   "metadata": {},
   "outputs": [],
   "source": [
    "# your code here"
   ]
  },
  {
   "cell_type": "markdown",
   "id": "920168d6-c19e-4f57-b15e-399d8644ca7d",
   "metadata": {},
   "source": [
    "#### Задача 11. \n",
    "\n",
    "Напишите функцию generate_unitary(), которая будет генерировать единичную матрицу размера n. Единичная матрица - такая, у которой по диагонали стоят единички, а все остальные числа - нолики, например:\n",
    "\n",
    "    1 0 0 0\n",
    "    0 1 0 0\n",
    "    0 0 1 0\n",
    "    0 0 0 1"
   ]
  },
  {
   "cell_type": "code",
   "execution_count": null,
   "id": "f44be14c-b60a-4f10-a902-069effa4cef6",
   "metadata": {},
   "outputs": [],
   "source": [
    "# your code here"
   ]
  }
 ],
 "metadata": {
  "kernelspec": {
   "display_name": "Python 3 (ipykernel)",
   "language": "python",
   "name": "python3"
  },
  "language_info": {
   "codemirror_mode": {
    "name": "ipython",
    "version": 3
   },
   "file_extension": ".py",
   "mimetype": "text/x-python",
   "name": "python",
   "nbconvert_exporter": "python",
   "pygments_lexer": "ipython3",
   "version": "3.10.11"
  }
 },
 "nbformat": 4,
 "nbformat_minor": 5
}
