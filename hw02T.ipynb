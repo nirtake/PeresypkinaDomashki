{
 "cells": [
  {
   "cell_type": "markdown",
   "id": "56eff8cc-316b-46e9-9ed1-547b04bcc103",
   "metadata": {
    "id": "S725w4FMgGQE"
   },
   "source": [
    "#### Задача 1. \n",
    "\n",
    "Напишите программу, которая принимает на вход число секунд и возвращает ответ в часах, минутах и секундах в виде 12:13:14. Подсказка: нужно использовать остаток от деления и целочисленное деление, а также параметр sep функции print(). Также можно воспользоваться функцией divmod(), но это для продвинутых."
   ]
  },
  {
   "cell_type": "code",
   "execution_count": 11,
   "id": "ee2c7a96-54aa-40c6-b159-c05616513127",
   "metadata": {
    "id": "OiXzgCcTgC7z"
   },
   "outputs": [
    {
     "name": "stdout",
     "output_type": "stream",
     "text": [
      "0:0:4\n"
     ]
    }
   ],
   "source": [
    "# your code here\n",
    "a = int(input('Введите число секунд'))\n",
    "print(a // 3600, (a % 3600) // 60, a % 60, sep = ':')"
   ]
  },
  {
   "cell_type": "markdown",
   "id": "19865edc-b8a2-4f70-a93a-1b469f01bba3",
   "metadata": {
    "id": "eAzjRy5qgbos"
   },
   "source": [
    "#### Задача 2. \n",
    "\n",
    "Напишите программу, которая переводит вес из килограммов в фунты. (Вес вводится пользователем)"
   ]
  },
  {
   "cell_type": "code",
   "execution_count": 17,
   "id": "eed62b3b-de8e-4f1b-b3fd-159ee55609a9",
   "metadata": {
    "id": "34xD1ujugmIr"
   },
   "outputs": [
    {
     "name": "stdout",
     "output_type": "stream",
     "text": [
      "2.2046226218487757\n"
     ]
    }
   ],
   "source": [
    "# your code here\n",
    "a = float(input('Введите количество кг'))\n",
    "print(a / 0.45359237)"
   ]
  },
  {
   "cell_type": "markdown",
   "id": "30ce20cf-c2ba-4fb7-ab60-b671a87541eb",
   "metadata": {
    "id": "REk8Ryh3gnVb"
   },
   "source": [
    "#### Задача 3.\n",
    "\n",
    "Напишите программу, которая рассчитывает процент от целого: пользователь вводит объем целого и объем части. Программа должна вывести \"хх%\"."
   ]
  },
  {
   "cell_type": "code",
   "execution_count": 13,
   "id": "61799d86-57de-497c-90ba-4f65d8308276",
   "metadata": {
    "id": "MlU7WYtogs7M"
   },
   "outputs": [
    {
     "name": "stdout",
     "output_type": "stream",
     "text": [
      "20%\n"
     ]
    }
   ],
   "source": [
    "# your code here\n",
    "a = float(input('Введите объем целого'))\n",
    "b = float(input('Введите объем части'))\n",
    "print(f'{int((b / a) * 100)}%')"
   ]
  },
  {
   "cell_type": "markdown",
   "id": "48406693-dd81-4530-9b04-f5fcd6df4399",
   "metadata": {
    "id": "KEbDUf-fhHrK"
   },
   "source": [
    "#### Задача 4. \n",
    "\n",
    "Дано положительное действительное число X. Выведите его первую цифру после десятичной точки. Эту задачу можно решить двумя способами."
   ]
  },
  {
   "cell_type": "code",
   "execution_count": 15,
   "id": "6ad442ef-9908-4677-b670-ff17da699165",
   "metadata": {
    "id": "U8ljbLqohS8M"
   },
   "outputs": [
    {
     "name": "stdout",
     "output_type": "stream",
     "text": [
      "2\n"
     ]
    }
   ],
   "source": [
    "# your code here\n",
    "a = float(input('Введите число '))\n",
    "print(int((a * 10) % 10))"
   ]
  },
  {
   "cell_type": "code",
   "execution_count": 16,
   "id": "617f42b1",
   "metadata": {},
   "outputs": [
    {
     "name": "stdout",
     "output_type": "stream",
     "text": [
      "8\n"
     ]
    }
   ],
   "source": [
    "a = input('Введите число')\n",
    "print(a[a.find('.') + 1])"
   ]
  }
 ],
 "metadata": {
  "kernelspec": {
   "display_name": "Python 3 (ipykernel)",
   "language": "python",
   "name": "python3"
  },
  "language_info": {
   "codemirror_mode": {
    "name": "ipython",
    "version": 3
   },
   "file_extension": ".py",
   "mimetype": "text/x-python",
   "name": "python",
   "nbconvert_exporter": "python",
   "pygments_lexer": "ipython3",
   "version": "3.10.11"
  }
 },
 "nbformat": 4,
 "nbformat_minor": 5
}
